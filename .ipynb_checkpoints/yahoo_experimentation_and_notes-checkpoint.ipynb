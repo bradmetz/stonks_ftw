{
 "cells": [
  {
   "cell_type": "markdown",
   "metadata": {},
   "source": [
    "<h1>Testing out Jupyter and yahoo finance API with pandas</h1>\n",
    "    \n",
    "Will be experimenting with this for API testing and playing with new concepts as well as taking notes. \n",
    "\n",
    "<b>Sources to look at in the future</b>\n",
    "Using yahoo finance in most work below.  \n",
    "\n",
    "Just came across the dividendhistory.org weekly reports which include P/E, P/B, payout ratio.  Need to writw up a quick scraper/collector to pull these down each week on Fridays. <br>\n",
    "link: https://dividendhistory.org/report/ <br>\n",
    "link US report: https://dividendhistory.org/reports/USA/2020-01-31-report.htm <br>\n",
    "link CAN report: https://dividendhistory.org/reports/CAN/2020-01-31-report.htm <br>\n",
    "\n",
    "\n",
    "To run a symbol through all code below, simply change variable <b>ticker</b> below and run all code. \n"
   ]
  },
  {
   "cell_type": "code",
   "execution_count": 3,
   "metadata": {},
   "outputs": [
    {
     "name": "stdout",
     "output_type": "stream",
     "text": [
      "Requirement already satisfied: pandas_datareader in /home/brad/anaconda3/lib/python3.7/site-packages (0.8.1)\n",
      "Requirement already satisfied: lxml in /home/brad/anaconda3/lib/python3.7/site-packages (from pandas_datareader) (4.4.1)\n",
      "Requirement already satisfied: requests>=2.3.0 in /home/brad/anaconda3/lib/python3.7/site-packages (from pandas_datareader) (2.22.0)\n",
      "Requirement already satisfied: pandas>=0.21 in /home/brad/anaconda3/lib/python3.7/site-packages (from pandas_datareader) (0.25.1)\n",
      "Requirement already satisfied: urllib3!=1.25.0,!=1.25.1,<1.26,>=1.21.1 in /home/brad/anaconda3/lib/python3.7/site-packages (from requests>=2.3.0->pandas_datareader) (1.24.2)\n",
      "Requirement already satisfied: certifi>=2017.4.17 in /home/brad/anaconda3/lib/python3.7/site-packages (from requests>=2.3.0->pandas_datareader) (2019.9.11)\n",
      "Requirement already satisfied: idna<2.9,>=2.5 in /home/brad/anaconda3/lib/python3.7/site-packages (from requests>=2.3.0->pandas_datareader) (2.8)\n",
      "Requirement already satisfied: chardet<3.1.0,>=3.0.2 in /home/brad/anaconda3/lib/python3.7/site-packages (from requests>=2.3.0->pandas_datareader) (3.0.4)\n",
      "Requirement already satisfied: pytz>=2017.2 in /home/brad/anaconda3/lib/python3.7/site-packages (from pandas>=0.21->pandas_datareader) (2019.3)\n",
      "Requirement already satisfied: python-dateutil>=2.6.1 in /home/brad/anaconda3/lib/python3.7/site-packages (from pandas>=0.21->pandas_datareader) (2.8.0)\n",
      "Requirement already satisfied: numpy>=1.13.3 in /home/brad/anaconda3/lib/python3.7/site-packages (from pandas>=0.21->pandas_datareader) (1.17.2)\n",
      "Requirement already satisfied: six>=1.5 in /home/brad/anaconda3/lib/python3.7/site-packages (from python-dateutil>=2.6.1->pandas>=0.21->pandas_datareader) (1.12.0)\n",
      "Collecting yfinance\n",
      "  Downloading https://files.pythonhosted.org/packages/c2/31/8b374a12b90def92a4e27d0fc595fc43635f395984e36a075244d98bd265/yfinance-0.1.54.tar.gz\n",
      "Requirement already satisfied: pandas>=0.24 in /home/brad/anaconda3/lib/python3.7/site-packages (from yfinance) (0.25.1)\n",
      "Requirement already satisfied: numpy>=1.15 in /home/brad/anaconda3/lib/python3.7/site-packages (from yfinance) (1.17.2)\n",
      "Requirement already satisfied: requests>=2.20 in /home/brad/anaconda3/lib/python3.7/site-packages (from yfinance) (2.22.0)\n",
      "Collecting multitasking>=0.0.7 (from yfinance)\n",
      "  Downloading https://files.pythonhosted.org/packages/69/e7/e9f1661c28f7b87abfa08cb0e8f51dad2240a9f4f741f02ea839835e6d18/multitasking-0.0.9.tar.gz\n",
      "Requirement already satisfied: pytz>=2017.2 in /home/brad/anaconda3/lib/python3.7/site-packages (from pandas>=0.24->yfinance) (2019.3)\n",
      "Requirement already satisfied: python-dateutil>=2.6.1 in /home/brad/anaconda3/lib/python3.7/site-packages (from pandas>=0.24->yfinance) (2.8.0)\n",
      "Requirement already satisfied: chardet<3.1.0,>=3.0.2 in /home/brad/anaconda3/lib/python3.7/site-packages (from requests>=2.20->yfinance) (3.0.4)\n",
      "Requirement already satisfied: idna<2.9,>=2.5 in /home/brad/anaconda3/lib/python3.7/site-packages (from requests>=2.20->yfinance) (2.8)\n",
      "Requirement already satisfied: urllib3!=1.25.0,!=1.25.1,<1.26,>=1.21.1 in /home/brad/anaconda3/lib/python3.7/site-packages (from requests>=2.20->yfinance) (1.24.2)\n",
      "Requirement already satisfied: certifi>=2017.4.17 in /home/brad/anaconda3/lib/python3.7/site-packages (from requests>=2.20->yfinance) (2019.9.11)\n",
      "Requirement already satisfied: six>=1.5 in /home/brad/anaconda3/lib/python3.7/site-packages (from python-dateutil>=2.6.1->pandas>=0.24->yfinance) (1.12.0)\n",
      "Building wheels for collected packages: yfinance, multitasking\n",
      "  Building wheel for yfinance (setup.py) ... \u001b[?25ldone\n",
      "\u001b[?25h  Created wheel for yfinance: filename=yfinance-0.1.54-py2.py3-none-any.whl size=22411 sha256=c04ff008639de2fff63f7a82042fd14e89398a3da3719eb901a89aba162ec187\n",
      "  Stored in directory: /home/brad/.cache/pip/wheels/f9/e3/5b/ec24dd2984b12d61e0abf26289746c2436a0e7844f26f2515c\n",
      "  Building wheel for multitasking (setup.py) ... \u001b[?25ldone\n",
      "\u001b[?25h  Created wheel for multitasking: filename=multitasking-0.0.9-cp37-none-any.whl size=8368 sha256=e40fb9a49a3d4d96f7b327f254db37435d50a4922a6fb48df1c6f4c611fecb2d\n",
      "  Stored in directory: /home/brad/.cache/pip/wheels/37/fa/73/d492849e319038eb4d986f5152e4b19ffb1bc0639da84d2677\n",
      "Successfully built yfinance multitasking\n",
      "Installing collected packages: multitasking, yfinance\n",
      "Successfully installed multitasking-0.0.9 yfinance-0.1.54\n"
     ]
    }
   ],
   "source": [
    "!pip install pandas_datareader\n",
    "!pip install yfinance"
   ]
  },
  {
   "cell_type": "code",
   "execution_count": 4,
   "metadata": {},
   "outputs": [
    {
     "name": "stdout",
     "output_type": "stream",
     "text": [
      "[*********************100%***********************]  1 of 1 completed\n",
      "           Date       Open       High        Low      Close  Adj Close  \\\n",
      "0    2010-01-04   3.470000   3.480000   3.376670   3.386670   2.673649   \n",
      "1    2010-01-05   3.401670   3.415000   3.333330   3.370000   2.660490   \n",
      "2    2010-01-06   3.368330   3.381670   3.343330   3.358330   2.651276   \n",
      "3    2010-01-07   3.340000   3.441670   3.335000   3.415000   2.696015   \n",
      "4    2010-01-08   3.405000   3.415000   3.356670   3.370000   2.660490   \n",
      "...         ...        ...        ...        ...        ...        ...   \n",
      "2516 2020-01-14  42.959999  43.860001  42.799999  43.790001  43.790001   \n",
      "2517 2020-01-15  43.759998  44.049999  43.119999  43.959999  43.959999   \n",
      "2518 2020-01-16  44.049999  44.299999  43.790001  44.250000  44.250000   \n",
      "2519 2020-01-17  44.290001  44.590000  43.980000  44.430000  44.430000   \n",
      "2520 2020-01-20  44.430000  44.750000  44.299999  44.669998  44.669998   \n",
      "\n",
      "       Volume  \n",
      "0      800418  \n",
      "1      765234  \n",
      "2     1322112  \n",
      "3     2813490  \n",
      "4     2079372  \n",
      "...       ...  \n",
      "2516  1432525  \n",
      "2517  1106334  \n",
      "2518   953691  \n",
      "2519   829575  \n",
      "2520   354738  \n",
      "\n",
      "[2521 rows x 7 columns]\n"
     ]
    }
   ],
   "source": [
    "import pandas as pd\n",
    "import pandas_datareader.data as pdr\n",
    "import yfinance as yf\n",
    "\n",
    "yf.pdr_override()\n",
    "# global test parameters for workflow\n",
    "ticker = 'ATD-B.TO'\n",
    "start_date = '2010-01-01'\n",
    "end_date = '2020-01-20'\n",
    "\n",
    "yahoo_price_check = pdr.DataReader(ticker,  start=start_date, end=end_date, data_source='yahoo')\n",
    "yahoo_price_check.reset_index(inplace=True,drop=False)\n",
    "print(yahoo_price_check)\n"
   ]
  },
  {
   "cell_type": "markdown",
   "metadata": {},
   "source": [
    "    Alright so that is working ok.  Now lets get some dividend.  May need to try out adj close to account for splits\n",
    "    \n",
    "    so the date is used as index but cannot be referenced for joining later.  I reset the index to generic integer based index.  Doing thing on the price dataframe gives a regular Date column but for some reason, the same conversion leaves date labelled 'index' for yahoo-actions.  Quick relabel after reindexing should make this joinable. "
   ]
  },
  {
   "cell_type": "code",
   "execution_count": 5,
   "metadata": {},
   "outputs": [
    {
     "name": "stdout",
     "output_type": "stream",
     "text": [
      "[*********************100%***********************]  1 of 1 completed\n",
      "           Date       Open       High        Low      Close  Adj Close  \\\n",
      "0    2010-01-04   3.470000   3.480000   3.376670   3.386670   2.661294   \n",
      "1    2010-01-05   3.401670   3.415000   3.333330   3.370000   2.648195   \n",
      "2    2010-01-06   3.368330   3.381670   3.343330   3.358330   2.639024   \n",
      "3    2010-01-07   3.340000   3.441670   3.335000   3.415000   2.683557   \n",
      "4    2010-01-08   3.405000   3.415000   3.356670   3.370000   2.648195   \n",
      "...         ...        ...        ...        ...        ...        ...   \n",
      "2516 2020-01-14  42.959999  43.860001  42.799999  43.790001  43.790001   \n",
      "2517 2020-01-15  43.759998  44.049999  43.119999  43.959999  43.959999   \n",
      "2518 2020-01-16  44.049999  44.299999  43.790001  44.250000  44.250000   \n",
      "2519 2020-01-17  44.290001  44.590000  43.980000  44.430000  44.430000   \n",
      "2520 2020-01-20  44.430000  44.750000  44.299999  44.669998  44.669998   \n",
      "\n",
      "       Volume  \n",
      "0      800418  \n",
      "1      765234  \n",
      "2     1322112  \n",
      "3     2813490  \n",
      "4     2079372  \n",
      "...       ...  \n",
      "2516  1432525  \n",
      "2517  1106334  \n",
      "2518   953691  \n",
      "2519   829575  \n",
      "2520   354738  \n",
      "\n",
      "[2521 rows x 7 columns]\n"
     ]
    }
   ],
   "source": [
    "yf.pdr_override()\n",
    "\n",
    "yahoo_div_check = pdr.DataReader(ticker, start=start_date, end=end_date, data_source='yahoo-actions')\n",
    "yahoo_div_check.reset_index(inplace=True,drop=False)\n",
    "yahoo_div_check = yahoo_div_check.rename(columns={'index':'Date'})\n",
    "print(yahoo_div_check)"
   ]
  },
  {
   "cell_type": "markdown",
   "metadata": {},
   "source": [
    "OK so the yahoo-actions override is not working ... no worries.  yfinance refactor may be the better option.  \n",
    "Test sections below."
   ]
  },
  {
   "cell_type": "code",
   "execution_count": 10,
   "metadata": {},
   "outputs": [
    {
     "name": "stdout",
     "output_type": "stream",
     "text": [
      "            Dividends  Stock Splits\n",
      "Date                               \n",
      "1987-09-21       0.00           2.0\n",
      "1990-04-16       0.00           2.0\n",
      "1991-06-27       0.00           1.5\n",
      "1992-06-15       0.00           1.5\n",
      "1994-05-23       0.00           2.0\n",
      "...               ...           ...\n",
      "2018-11-14       0.46           0.0\n",
      "2019-02-20       0.46           0.0\n",
      "2019-05-15       0.46           0.0\n",
      "2019-08-14       0.46           0.0\n",
      "2019-11-20       0.51           0.0\n",
      "\n",
      "[73 rows x 2 columns]\n"
     ]
    },
    {
     "data": {
      "text/html": [
       "<div>\n",
       "<style scoped>\n",
       "    .dataframe tbody tr th:only-of-type {\n",
       "        vertical-align: middle;\n",
       "    }\n",
       "\n",
       "    .dataframe tbody tr th {\n",
       "        vertical-align: top;\n",
       "    }\n",
       "\n",
       "    .dataframe thead th {\n",
       "        text-align: right;\n",
       "    }\n",
       "</style>\n",
       "<table border=\"1\" class=\"dataframe\">\n",
       "  <thead>\n",
       "    <tr style=\"text-align: right;\">\n",
       "      <th></th>\n",
       "      <th>0</th>\n",
       "      <th>1</th>\n",
       "    </tr>\n",
       "  </thead>\n",
       "  <tbody>\n",
       "    <tr>\n",
       "      <td>Earnings Date</td>\n",
       "      <td>2020-04-22 00:00:00</td>\n",
       "      <td>2020-04-27 00:00:00</td>\n",
       "    </tr>\n",
       "    <tr>\n",
       "      <td>Earnings Average</td>\n",
       "      <td>1.32</td>\n",
       "      <td>1.32</td>\n",
       "    </tr>\n",
       "    <tr>\n",
       "      <td>Earnings Low</td>\n",
       "      <td>1.22</td>\n",
       "      <td>1.22</td>\n",
       "    </tr>\n",
       "    <tr>\n",
       "      <td>Earnings High</td>\n",
       "      <td>1.37</td>\n",
       "      <td>1.37</td>\n",
       "    </tr>\n",
       "    <tr>\n",
       "      <td>Revenue Average</td>\n",
       "      <td>34562000000</td>\n",
       "      <td>34562000000</td>\n",
       "    </tr>\n",
       "    <tr>\n",
       "      <td>Revenue Low</td>\n",
       "      <td>33937000000</td>\n",
       "      <td>33937000000</td>\n",
       "    </tr>\n",
       "    <tr>\n",
       "      <td>Revenue High</td>\n",
       "      <td>34792200000</td>\n",
       "      <td>34792200000</td>\n",
       "    </tr>\n",
       "  </tbody>\n",
       "</table>\n",
       "</div>"
      ],
      "text/plain": [
       "                                    0                    1\n",
       "Earnings Date     2020-04-22 00:00:00  2020-04-27 00:00:00\n",
       "Earnings Average                 1.32                 1.32\n",
       "Earnings Low                     1.22                 1.22\n",
       "Earnings High                    1.37                 1.37\n",
       "Revenue Average           34562000000          34562000000\n",
       "Revenue Low               33937000000          33937000000\n",
       "Revenue High              34792200000          34792200000"
      ]
     },
     "execution_count": 10,
     "metadata": {},
     "output_type": "execute_result"
    }
   ],
   "source": [
    "import yfinance as yf\n",
    "\n",
    "msft = yf.Ticker(\"MSFT\")\n",
    "\n",
    "# get stock info\n",
    "msft.info\n",
    "\n",
    "# get historical market data\n",
    "hist = msft.history(period=\"max\")\n",
    "\n",
    "# show actions (dividends, splits)\n",
    "print(msft.actions)\n",
    "\n",
    "# show dividends\n",
    "msft.dividends\n",
    "\n",
    "# show splits\n",
    "msft.splits\n",
    "\n",
    "# show financials\n",
    "msft.financials\n",
    "msft.quarterly_financials\n",
    "\n",
    "# show major holders\n",
    "msft.major_holders\n",
    "\n",
    "# show institutional holders\n",
    "msft.institutional_holders\n",
    "\n",
    "# show balance heet\n",
    "msft.balance_sheet\n",
    "msft.quarterly_balance_sheet\n",
    "\n",
    "# show cashflow\n",
    "msft.cashflow\n",
    "msft.quarterly_cashflow\n",
    "\n",
    "# show earnings\n",
    "msft.earnings\n",
    "msft.quarterly_earnings\n",
    "\n",
    "# show sustainability\n",
    "msft.sustainability\n",
    "\n",
    "# show analysts recommendations\n",
    "msft.recommendations\n",
    "\n",
    "# show next event (earnings, etc)\n",
    "msft.calendar\n",
    "\n",
    "# show ISIN code - *experimental*\n",
    "# ISIN = International Securities Identification Number\n",
    "#msft.isin\n",
    "\n",
    "# show options expirations\n",
    "#msft.options\n",
    "\n",
    "# get option chain for specific expiration\n",
    "#opt = msft.option_chain('YYYY-MM-DD')\n",
    "# data available via: opt.calls, opt.puts"
   ]
  },
  {
   "cell_type": "markdown",
   "metadata": {},
   "source": [
    "Alright hitting a problem now with pandas datareader for yahoo.  Quick bit of research shows that using a library called yfinance (https://pypi.org/project/yfinance/) maybe the better option for accessing this data.  can install yfinance from pip and there is a function call that allows for pdr override with a single function call.  Maybe a painless fix.  \n",
    "\n",
    "Also need to start exploring other API options as yahoo is deprecated and may become unreliable. "
   ]
  },
  {
   "cell_type": "markdown",
   "metadata": {},
   "source": [
    "<b> Playing with Graphing Data from Yahoo Finance </b>"
   ]
  },
  {
   "cell_type": "code",
   "execution_count": 4,
   "metadata": {},
   "outputs": [
    {
     "ename": "KeyError",
     "evalue": "'value'",
     "output_type": "error",
     "traceback": [
      "\u001b[0;31m---------------------------------------------------------------------------\u001b[0m",
      "\u001b[0;31mKeyError\u001b[0m                                  Traceback (most recent call last)",
      "\u001b[0;32m/opt/anaconda3/lib/python3.7/site-packages/pandas/core/indexes/base.py\u001b[0m in \u001b[0;36mget_loc\u001b[0;34m(self, key, method, tolerance)\u001b[0m\n\u001b[1;32m   2896\u001b[0m             \u001b[0;32mtry\u001b[0m\u001b[0;34m:\u001b[0m\u001b[0;34m\u001b[0m\u001b[0;34m\u001b[0m\u001b[0m\n\u001b[0;32m-> 2897\u001b[0;31m                 \u001b[0;32mreturn\u001b[0m \u001b[0mself\u001b[0m\u001b[0;34m.\u001b[0m\u001b[0m_engine\u001b[0m\u001b[0;34m.\u001b[0m\u001b[0mget_loc\u001b[0m\u001b[0;34m(\u001b[0m\u001b[0mkey\u001b[0m\u001b[0;34m)\u001b[0m\u001b[0;34m\u001b[0m\u001b[0;34m\u001b[0m\u001b[0m\n\u001b[0m\u001b[1;32m   2898\u001b[0m             \u001b[0;32mexcept\u001b[0m \u001b[0mKeyError\u001b[0m\u001b[0;34m:\u001b[0m\u001b[0;34m\u001b[0m\u001b[0;34m\u001b[0m\u001b[0m\n",
      "\u001b[0;32mpandas/_libs/index.pyx\u001b[0m in \u001b[0;36mpandas._libs.index.IndexEngine.get_loc\u001b[0;34m()\u001b[0m\n",
      "\u001b[0;32mpandas/_libs/index.pyx\u001b[0m in \u001b[0;36mpandas._libs.index.IndexEngine.get_loc\u001b[0;34m()\u001b[0m\n",
      "\u001b[0;32mpandas/_libs/hashtable_class_helper.pxi\u001b[0m in \u001b[0;36mpandas._libs.hashtable.PyObjectHashTable.get_item\u001b[0;34m()\u001b[0m\n",
      "\u001b[0;32mpandas/_libs/hashtable_class_helper.pxi\u001b[0m in \u001b[0;36mpandas._libs.hashtable.PyObjectHashTable.get_item\u001b[0;34m()\u001b[0m\n",
      "\u001b[0;31mKeyError\u001b[0m: 'value'",
      "\nDuring handling of the above exception, another exception occurred:\n",
      "\u001b[0;31mKeyError\u001b[0m                                  Traceback (most recent call last)",
      "\u001b[0;32m<ipython-input-4-10f255491b9e>\u001b[0m in \u001b[0;36m<module>\u001b[0;34m\u001b[0m\n\u001b[1;32m      4\u001b[0m \u001b[0mregister_matplotlib_converters\u001b[0m\u001b[0;34m(\u001b[0m\u001b[0;34m)\u001b[0m\u001b[0;34m\u001b[0m\u001b[0;34m\u001b[0m\u001b[0m\n\u001b[1;32m      5\u001b[0m \u001b[0;34m\u001b[0m\u001b[0m\n\u001b[0;32m----> 6\u001b[0;31m \u001b[0mplt\u001b[0m\u001b[0;34m.\u001b[0m\u001b[0mscatter\u001b[0m\u001b[0;34m(\u001b[0m\u001b[0myahoo_div_check\u001b[0m\u001b[0;34m[\u001b[0m\u001b[0;34m'Date'\u001b[0m\u001b[0;34m]\u001b[0m\u001b[0;34m,\u001b[0m \u001b[0myahoo_div_check\u001b[0m\u001b[0;34m[\u001b[0m\u001b[0;34m'value'\u001b[0m\u001b[0;34m]\u001b[0m\u001b[0;34m,\u001b[0m \u001b[0mcolor\u001b[0m \u001b[0;34m=\u001b[0m \u001b[0;34m'red'\u001b[0m\u001b[0;34m)\u001b[0m\u001b[0;34m\u001b[0m\u001b[0;34m\u001b[0m\u001b[0m\n\u001b[0m\u001b[1;32m      7\u001b[0m \u001b[0mplt\u001b[0m\u001b[0;34m.\u001b[0m\u001b[0mtitle\u001b[0m\u001b[0;34m(\u001b[0m\u001b[0;34m'Test Yahoo Dividends over time'\u001b[0m\u001b[0;34m)\u001b[0m\u001b[0;34m\u001b[0m\u001b[0;34m\u001b[0m\u001b[0m\n\u001b[1;32m      8\u001b[0m \u001b[0mplt\u001b[0m\u001b[0;34m.\u001b[0m\u001b[0mxlabel\u001b[0m\u001b[0;34m(\u001b[0m\u001b[0;34m'Date'\u001b[0m\u001b[0;34m)\u001b[0m\u001b[0;34m\u001b[0m\u001b[0;34m\u001b[0m\u001b[0m\n",
      "\u001b[0;32m/opt/anaconda3/lib/python3.7/site-packages/pandas/core/frame.py\u001b[0m in \u001b[0;36m__getitem__\u001b[0;34m(self, key)\u001b[0m\n\u001b[1;32m   2978\u001b[0m             \u001b[0;32mif\u001b[0m \u001b[0mself\u001b[0m\u001b[0;34m.\u001b[0m\u001b[0mcolumns\u001b[0m\u001b[0;34m.\u001b[0m\u001b[0mnlevels\u001b[0m \u001b[0;34m>\u001b[0m \u001b[0;36m1\u001b[0m\u001b[0;34m:\u001b[0m\u001b[0;34m\u001b[0m\u001b[0;34m\u001b[0m\u001b[0m\n\u001b[1;32m   2979\u001b[0m                 \u001b[0;32mreturn\u001b[0m \u001b[0mself\u001b[0m\u001b[0;34m.\u001b[0m\u001b[0m_getitem_multilevel\u001b[0m\u001b[0;34m(\u001b[0m\u001b[0mkey\u001b[0m\u001b[0;34m)\u001b[0m\u001b[0;34m\u001b[0m\u001b[0;34m\u001b[0m\u001b[0m\n\u001b[0;32m-> 2980\u001b[0;31m             \u001b[0mindexer\u001b[0m \u001b[0;34m=\u001b[0m \u001b[0mself\u001b[0m\u001b[0;34m.\u001b[0m\u001b[0mcolumns\u001b[0m\u001b[0;34m.\u001b[0m\u001b[0mget_loc\u001b[0m\u001b[0;34m(\u001b[0m\u001b[0mkey\u001b[0m\u001b[0;34m)\u001b[0m\u001b[0;34m\u001b[0m\u001b[0;34m\u001b[0m\u001b[0m\n\u001b[0m\u001b[1;32m   2981\u001b[0m             \u001b[0;32mif\u001b[0m \u001b[0mis_integer\u001b[0m\u001b[0;34m(\u001b[0m\u001b[0mindexer\u001b[0m\u001b[0;34m)\u001b[0m\u001b[0;34m:\u001b[0m\u001b[0;34m\u001b[0m\u001b[0;34m\u001b[0m\u001b[0m\n\u001b[1;32m   2982\u001b[0m                 \u001b[0mindexer\u001b[0m \u001b[0;34m=\u001b[0m \u001b[0;34m[\u001b[0m\u001b[0mindexer\u001b[0m\u001b[0;34m]\u001b[0m\u001b[0;34m\u001b[0m\u001b[0;34m\u001b[0m\u001b[0m\n",
      "\u001b[0;32m/opt/anaconda3/lib/python3.7/site-packages/pandas/core/indexes/base.py\u001b[0m in \u001b[0;36mget_loc\u001b[0;34m(self, key, method, tolerance)\u001b[0m\n\u001b[1;32m   2897\u001b[0m                 \u001b[0;32mreturn\u001b[0m \u001b[0mself\u001b[0m\u001b[0;34m.\u001b[0m\u001b[0m_engine\u001b[0m\u001b[0;34m.\u001b[0m\u001b[0mget_loc\u001b[0m\u001b[0;34m(\u001b[0m\u001b[0mkey\u001b[0m\u001b[0;34m)\u001b[0m\u001b[0;34m\u001b[0m\u001b[0;34m\u001b[0m\u001b[0m\n\u001b[1;32m   2898\u001b[0m             \u001b[0;32mexcept\u001b[0m \u001b[0mKeyError\u001b[0m\u001b[0;34m:\u001b[0m\u001b[0;34m\u001b[0m\u001b[0;34m\u001b[0m\u001b[0m\n\u001b[0;32m-> 2899\u001b[0;31m                 \u001b[0;32mreturn\u001b[0m \u001b[0mself\u001b[0m\u001b[0;34m.\u001b[0m\u001b[0m_engine\u001b[0m\u001b[0;34m.\u001b[0m\u001b[0mget_loc\u001b[0m\u001b[0;34m(\u001b[0m\u001b[0mself\u001b[0m\u001b[0;34m.\u001b[0m\u001b[0m_maybe_cast_indexer\u001b[0m\u001b[0;34m(\u001b[0m\u001b[0mkey\u001b[0m\u001b[0;34m)\u001b[0m\u001b[0;34m)\u001b[0m\u001b[0;34m\u001b[0m\u001b[0;34m\u001b[0m\u001b[0m\n\u001b[0m\u001b[1;32m   2900\u001b[0m         \u001b[0mindexer\u001b[0m \u001b[0;34m=\u001b[0m \u001b[0mself\u001b[0m\u001b[0;34m.\u001b[0m\u001b[0mget_indexer\u001b[0m\u001b[0;34m(\u001b[0m\u001b[0;34m[\u001b[0m\u001b[0mkey\u001b[0m\u001b[0;34m]\u001b[0m\u001b[0;34m,\u001b[0m \u001b[0mmethod\u001b[0m\u001b[0;34m=\u001b[0m\u001b[0mmethod\u001b[0m\u001b[0;34m,\u001b[0m \u001b[0mtolerance\u001b[0m\u001b[0;34m=\u001b[0m\u001b[0mtolerance\u001b[0m\u001b[0;34m)\u001b[0m\u001b[0;34m\u001b[0m\u001b[0;34m\u001b[0m\u001b[0m\n\u001b[1;32m   2901\u001b[0m         \u001b[0;32mif\u001b[0m \u001b[0mindexer\u001b[0m\u001b[0;34m.\u001b[0m\u001b[0mndim\u001b[0m \u001b[0;34m>\u001b[0m \u001b[0;36m1\u001b[0m \u001b[0;32mor\u001b[0m \u001b[0mindexer\u001b[0m\u001b[0;34m.\u001b[0m\u001b[0msize\u001b[0m \u001b[0;34m>\u001b[0m \u001b[0;36m1\u001b[0m\u001b[0;34m:\u001b[0m\u001b[0;34m\u001b[0m\u001b[0;34m\u001b[0m\u001b[0m\n",
      "\u001b[0;32mpandas/_libs/index.pyx\u001b[0m in \u001b[0;36mpandas._libs.index.IndexEngine.get_loc\u001b[0;34m()\u001b[0m\n",
      "\u001b[0;32mpandas/_libs/index.pyx\u001b[0m in \u001b[0;36mpandas._libs.index.IndexEngine.get_loc\u001b[0;34m()\u001b[0m\n",
      "\u001b[0;32mpandas/_libs/hashtable_class_helper.pxi\u001b[0m in \u001b[0;36mpandas._libs.hashtable.PyObjectHashTable.get_item\u001b[0;34m()\u001b[0m\n",
      "\u001b[0;32mpandas/_libs/hashtable_class_helper.pxi\u001b[0m in \u001b[0;36mpandas._libs.hashtable.PyObjectHashTable.get_item\u001b[0;34m()\u001b[0m\n",
      "\u001b[0;31mKeyError\u001b[0m: 'value'"
     ]
    }
   ],
   "source": [
    "import matplotlib.pyplot as plt\n",
    "from pandas.plotting import register_matplotlib_converters\n",
    "\n",
    "\n",
    "\n",
    "register_matplotlib_converters()\n",
    "\n",
    "plt.scatter(yahoo_div_check['Date'], yahoo_div_check['value'], color = 'red')\n",
    "plt.title('Test Yahoo Dividends over time')\n",
    "plt.xlabel('Date')\n",
    "plt.ylabel('Dividend Amount')\n",
    "plt.show()"
   ]
  },
  {
   "cell_type": "code",
   "execution_count": 376,
   "metadata": {},
   "outputs": [
    {
     "name": "stdout",
     "output_type": "stream",
     "text": [
      "         Date    action   value\n",
      "0  2019-12-04  DIVIDEND  0.0625\n",
      "1  2019-09-12  DIVIDEND  0.1250\n",
      "2  2019-07-17  DIVIDEND  0.1250\n",
      "3  2019-03-27  DIVIDEND  0.1250\n",
      "4  2018-12-05  DIVIDEND  0.1000\n",
      "5  2018-09-13  DIVIDEND  0.1000\n",
      "6  2018-07-17  DIVIDEND  0.1000\n",
      "7  2018-03-28  DIVIDEND  0.0900\n",
      "8  2017-12-06  DIVIDEND  0.0900\n",
      "9  2017-09-14  DIVIDEND  0.0900\n",
      "10 2017-07-19  DIVIDEND  0.0900\n",
      "11 2017-03-21  DIVIDEND  0.0900\n",
      "12 2016-11-29  DIVIDEND  0.0900\n",
      "13 2016-09-07  DIVIDEND  0.0775\n",
      "14 2016-07-19  DIVIDEND  0.0775\n",
      "15 2016-03-22  DIVIDEND  0.0675\n",
      "16 2015-12-01  DIVIDEND  0.0675\n",
      "17 2015-09-09  DIVIDEND  0.0550\n",
      "18 2015-07-21  DIVIDEND  0.0550\n",
      "19 2015-03-24  DIVIDEND  0.0450\n",
      "20 2014-12-02  DIVIDEND  0.0450\n",
      "21 2014-09-10  DIVIDEND  0.0450\n",
      "22 2014-07-14  DIVIDEND  0.0400\n",
      "23 2014-03-25  DIVIDEND  0.1000\n",
      "24 2013-12-03  DIVIDEND  0.1000\n",
      "25 2013-09-09  DIVIDEND  0.0875\n",
      "26 2013-07-16  DIVIDEND  0.0750\n",
      "27 2013-03-26  DIVIDEND  0.0750\n",
      "28 2012-12-04  DIVIDEND  0.0750\n",
      "29 2012-09-12  DIVIDEND  0.0750\n",
      "30 2012-07-17  DIVIDEND  0.0750\n",
      "31 2012-03-21  DIVIDEND  0.0750\n",
      "32 2011-11-30  DIVIDEND  0.0750\n",
      "33 2011-09-07  DIVIDEND  0.0625\n",
      "34 2011-07-19  DIVIDEND  0.0625\n",
      "35 2011-03-17  DIVIDEND  0.0500\n",
      "36 2010-11-30  DIVIDEND  0.0500\n",
      "37 2010-08-31  DIVIDEND  0.0400\n",
      "38 2010-07-20  DIVIDEND  0.0400\n",
      "39 2010-03-16  DIVIDEND  0.0400\n"
     ]
    }
   ],
   "source": [
    "#yahoo_div_check = pdr.DataReader(ticker, start='2004-01-01', end='2019-12-30', data_source='yahoo-actions')\n",
    "print(yahoo_div_check)"
   ]
  },
  {
   "cell_type": "markdown",
   "metadata": {},
   "source": [
    "Show all non-DIVIDEND actions. "
   ]
  },
  {
   "cell_type": "code",
   "execution_count": 341,
   "metadata": {},
   "outputs": [
    {
     "name": "stdout",
     "output_type": "stream",
     "text": [
      "        Date action     value\n",
      "0 2019-09-30  SPLIT  0.500000\n",
      "1 2014-04-23  SPLIT  0.333333\n"
     ]
    }
   ],
   "source": [
    "yahoo_div_check = pdr.DataReader(ticker, start=start_date, end=end_date, data_source='yahoo-actions')\n",
    "yahoo_div_check = yahoo_div_check[yahoo_div_check.action != \"DIVIDEND\"]\n",
    "yahoo_div_check.reset_index(inplace=True,drop=False)\n",
    "yahoo_div_check = yahoo_div_check.rename(columns={'index':'Date'})\n",
    "print(yahoo_div_check)"
   ]
  },
  {
   "cell_type": "markdown",
   "metadata": {},
   "source": [
    "So the outlier was a stock split not a dividend.  Should remove those.  Also whats happening pre-2002?"
   ]
  },
  {
   "cell_type": "code",
   "execution_count": 342,
   "metadata": {},
   "outputs": [
    {
     "name": "stdout",
     "output_type": "stream",
     "text": [
      "         Date    action   value\n",
      "0  2019-12-04  DIVIDEND  0.0625\n",
      "1  2019-09-12  DIVIDEND  0.1250\n",
      "2  2019-07-17  DIVIDEND  0.1250\n",
      "3  2019-03-27  DIVIDEND  0.1250\n",
      "4  2018-12-05  DIVIDEND  0.1000\n",
      "5  2018-09-13  DIVIDEND  0.1000\n",
      "6  2018-07-17  DIVIDEND  0.1000\n",
      "7  2018-03-28  DIVIDEND  0.0900\n",
      "8  2017-12-06  DIVIDEND  0.0900\n",
      "9  2017-09-14  DIVIDEND  0.0900\n",
      "10 2017-07-19  DIVIDEND  0.0900\n",
      "11 2017-03-21  DIVIDEND  0.0900\n",
      "12 2016-11-29  DIVIDEND  0.0900\n",
      "13 2016-09-07  DIVIDEND  0.0775\n",
      "14 2016-07-19  DIVIDEND  0.0775\n",
      "15 2016-03-22  DIVIDEND  0.0675\n",
      "16 2015-12-01  DIVIDEND  0.0675\n",
      "17 2015-09-09  DIVIDEND  0.0550\n",
      "18 2015-07-21  DIVIDEND  0.0550\n",
      "19 2015-03-24  DIVIDEND  0.0450\n",
      "20 2014-12-02  DIVIDEND  0.0450\n",
      "21 2014-09-10  DIVIDEND  0.0450\n",
      "22 2014-07-14  DIVIDEND  0.0400\n",
      "23 2014-03-25  DIVIDEND  0.1000\n",
      "24 2013-12-03  DIVIDEND  0.1000\n",
      "25 2013-09-09  DIVIDEND  0.0875\n",
      "26 2013-07-16  DIVIDEND  0.0750\n",
      "27 2013-03-26  DIVIDEND  0.0750\n",
      "28 2012-12-04  DIVIDEND  0.0750\n",
      "29 2012-09-12  DIVIDEND  0.0750\n",
      "30 2012-07-17  DIVIDEND  0.0750\n",
      "31 2012-03-21  DIVIDEND  0.0750\n",
      "32 2011-11-30  DIVIDEND  0.0750\n",
      "33 2011-09-07  DIVIDEND  0.0625\n",
      "34 2011-07-19  DIVIDEND  0.0625\n",
      "35 2011-03-17  DIVIDEND  0.0500\n",
      "36 2010-11-30  DIVIDEND  0.0500\n",
      "37 2010-08-31  DIVIDEND  0.0400\n",
      "38 2010-07-20  DIVIDEND  0.0400\n",
      "39 2010-03-16  DIVIDEND  0.0400\n",
      "        Date action     value\n",
      "0 2019-09-30  SPLIT  0.500000\n",
      "1 2014-04-23  SPLIT  0.333333\n",
      "        Date action     value\n",
      "0 2019-09-30  SPLIT  0.500000\n",
      "1 2014-04-23  SPLIT  0.333333\n"
     ]
    }
   ],
   "source": [
    "yahoo_action_check = pdr.DataReader(ticker, start=start_date, end=end_date, data_source='yahoo-actions')\n",
    "yahoo_div_check = yahoo_action_check[yahoo_action_check.action == \"DIVIDEND\"]\n",
    "yahoo_split_check = yahoo_action_check[yahoo_action_check.action == \"SPLIT\"]\n",
    "yahoo_other_check = yahoo_action_check[yahoo_action_check.action != \"DIVIDEND\"]\n",
    "\n",
    "yahoo_div_check.reset_index(inplace=True,drop=False)\n",
    "yahoo_div_check = yahoo_div_check.rename(columns={'index':'Date'})\n",
    "\n",
    "yahoo_split_check.reset_index(inplace=True,drop=False)\n",
    "yahoo_split_check = yahoo_split_check.rename(columns={'index':'Date'})\n",
    "\n",
    "yahoo_other_check.reset_index(inplace=True,drop=False)\n",
    "yahoo_other_check = yahoo_other_check.rename(columns={'index':'Date'})\n",
    "\n",
    "print(yahoo_div_check)\n",
    "print(yahoo_split_check)\n",
    "print(yahoo_other_check)"
   ]
  },
  {
   "cell_type": "markdown",
   "metadata": {},
   "source": [
    "<b>so got rid of splits ... only dividends ... now graph to check<b>"
   ]
  },
  {
   "cell_type": "code",
   "execution_count": 343,
   "metadata": {},
   "outputs": [
    {
     "data": {
      "image/png": "[encoded data removed]",
      "text/plain": [
       "<Figure size 432x288 with 1 Axes>"
      ]
     },
     "metadata": {
      "needs_background": "light"
     },
     "output_type": "display_data"
    }
   ],
   "source": [
    "plt.scatter(yahoo_div_check['Date'], yahoo_div_check['value'], color = 'red')\n",
    "plt.title('Test Yahoo Dividends over time')\n",
    "plt.xlabel('Date')\n",
    "plt.ylabel('Dividend Amount')\n",
    "plt.show()"
   ]
  },
  {
   "cell_type": "markdown",
   "metadata": {},
   "source": [
    "This graph makes it easy to see whether a stock has a regular dividend payout and periodic increases.  \n",
    "\n",
    "Drops in dividend payout (see ATD-B.TO) could be caused by stock splits.   Need to check for splits and adjust.\n",
    "\n",
    "Now lets create a data frame with all the dividend yield values based on div and closing price by day."
   ]
  },
  {
   "cell_type": "code",
   "execution_count": 344,
   "metadata": {},
   "outputs": [
    {
     "name": "stdout",
     "output_type": "stream",
     "text": [
      "           Date      Close\n",
      "0    2010-01-04   3.386670\n",
      "1    2010-01-05   3.370000\n",
      "2    2010-01-06   3.358330\n",
      "3    2010-01-07   3.415000\n",
      "4    2010-01-08   3.370000\n",
      "...         ...        ...\n",
      "2517 2020-01-15  43.959999\n",
      "2518 2020-01-16  44.250000\n",
      "2519 2020-01-17  44.430000\n",
      "2520 2020-01-20  44.669998\n",
      "2521 2020-01-21  44.639999\n",
      "\n",
      "[2522 rows x 2 columns]\n"
     ]
    }
   ],
   "source": [
    "div_yield_frame = yahoo_price_check.copy()\n",
    "#div_yield_frame = yahoo_price_check.loc[:,'Close']\n",
    "\n",
    "\n",
    "div_yield_frame = div_yield_frame.drop('High', axis=1)\n",
    "div_yield_frame = div_yield_frame.drop('Low', axis=1)\n",
    "div_yield_frame = div_yield_frame.drop('Open', axis=1)\n",
    "div_yield_frame = div_yield_frame.drop('Volume', axis=1)\n",
    "div_yield_frame = div_yield_frame.drop('Adj Close', axis=1)\n",
    "#div_yield_frame = div_yield_frame.drop('index', axis=1)\n",
    "\n",
    "\n",
    "\n",
    "print(div_yield_frame)"
   ]
  },
  {
   "cell_type": "markdown",
   "metadata": {},
   "source": [
    "So the merge does a join on date but only keeps results that match.  Need to populate all price closes rows with a dividend yield.  Try a different function.  Something that gives me an outer join (or right join)\n",
    "\n",
    "currently fixed: auto filled non-div days with NaN.  \n",
    "\n",
    "Next need to populate all the NaN spots with previous dividend value by date and calculate yield based on price each day. \n",
    "\n",
    "Alright now add a column for the yield for each day based on calculation . Dividend/price * 100"
   ]
  },
  {
   "cell_type": "code",
   "execution_count": 345,
   "metadata": {
    "scrolled": false
   },
   "outputs": [
    {
     "name": "stdout",
     "output_type": "stream",
     "text": [
      "           Date      Close   value\n",
      "0    2010-01-04   3.386670  0.0400\n",
      "1    2010-01-05   3.370000  0.0400\n",
      "2    2010-01-06   3.358330  0.0400\n",
      "3    2010-01-07   3.415000  0.0400\n",
      "4    2010-01-08   3.370000  0.0400\n",
      "...         ...        ...     ...\n",
      "2517 2020-01-15  43.959999  0.0625\n",
      "2518 2020-01-16  44.250000  0.0625\n",
      "2519 2020-01-17  44.430000  0.0625\n",
      "2520 2020-01-20  44.669998  0.0625\n",
      "2521 2020-01-21  44.639999  0.0625\n",
      "\n",
      "[2522 rows x 3 columns]\n",
      "           Date      Close   value  div_yield\n",
      "0    2010-01-04   3.386670  0.0400   4.724405\n",
      "1    2010-01-05   3.370000  0.0400   4.747775\n",
      "2    2010-01-06   3.358330  0.0400   4.764273\n",
      "3    2010-01-07   3.415000  0.0400   4.685212\n",
      "4    2010-01-08   3.370000  0.0400   4.747775\n",
      "...         ...        ...     ...        ...\n",
      "2517 2020-01-15  43.959999  0.0625   0.568699\n",
      "2518 2020-01-16  44.250000  0.0625   0.564972\n",
      "2519 2020-01-17  44.430000  0.0625   0.562683\n",
      "2520 2020-01-20  44.669998  0.0625   0.559660\n",
      "2521 2020-01-21  44.639999  0.0625   0.560036\n",
      "\n",
      "[2522 rows x 4 columns]\n"
     ]
    },
    {
     "data": {
      "image/png": "[encoded data removed]",
      "text/plain": [
       "<Figure size 432x288 with 1 Axes>"
      ]
     },
     "metadata": {
      "needs_background": "light"
     },
     "output_type": "display_data"
    },
    {
     "data": {
      "image/png": "[encoded data removed]",
      "text/plain": [
       "<Figure size 432x288 with 1 Axes>"
      ]
     },
     "metadata": {
      "needs_background": "light"
     },
     "output_type": "display_data"
    }
   ],
   "source": [
    "#print(div_yield_frame)\n",
    "#print(yahoo_div_check)\n",
    "new_div_yield = pd.merge(div_yield_frame, yahoo_div_check, on=\"Date\", how=\"left\")\n",
    "new_div_yield = new_div_yield.drop('action', axis=1)\n",
    "\n",
    "# front fill and calculate yield for each day\n",
    "# not sure if I need the backfill call to complete the dataframe or not\n",
    "new_div_yield.fillna(method='ffill', inplace=True)\n",
    "new_div_yield.fillna(method='bfill', inplace=True)\n",
    "print(new_div_yield)\n",
    "new_div_yield['div_yield'] = (4*new_div_yield['value'])/new_div_yield['Close'] *100\n",
    "print(new_div_yield)\n",
    "\n",
    "# plot dividend yield over time\n",
    "plt.plot(new_div_yield['Date'], new_div_yield['div_yield'], color = 'red')\n",
    "plt.title('Test Yahoo Dividends over time')\n",
    "plt.xlabel('Date')\n",
    "plt.ylabel('Dividend Yield')\n",
    "plt.show()\n",
    "\n",
    "# plot price over time \n",
    "plt.plot(new_div_yield['Date'], new_div_yield['Close'], color = 'green')\n",
    "plt.title('Test Yahoo Dividends over time')\n",
    "plt.xlabel('Date')\n",
    "plt.ylabel('Price')\n",
    "plt.show()"
   ]
  },
  {
   "cell_type": "markdown",
   "metadata": {},
   "source": [
    " ok great ... but the assumption here is that dividends are paid quarterly.  Need to calculate dividend frequency.  Maybe there is a way to get it.  if not, calculate it.  \n",
    " \n",
    "<b>To do:</b> find a way to automatically calculate dividend payout frequency.  \n",
    "\n",
    "   <i>Initial idea:</i>  for each dividend payment calculate delta between last and current div date and add to dividend yield DF.  This becomes a multiplier used to calculate div yield.  This should account for varying div payout frequencies across stocks <b>(test cases: T.TO, SJR-B.TO, XQQ)</b> as well as changes in payout frequency for individual stocks <b>(test case: Corus CJR-B)</b> \n",
    "\n",
    "hmm... so the closing price is adjusted for splits but the dividends are not.  Will need to account for dividend values that change as a result of splits.  To see this, change ticker to <b>(test case: \"ATD-B.TO\")</b>. \n",
    "\n",
    "<b>To do:</b> find a way to account for splits. \n",
    "\n",
    "<i>Initial idea:</i> So i think i can normalize by retroactively multiplying the dividend value by the split (eg  new_div = old_div * SPLIT) for each SPLIT record.  This would work for ATB-B.  will try later.  \n",
    "\n",
    "<b>FALSE - need to adjust manually</b> Alternatively, sourcing dividend payouts from dividendhistory.org, the amounts are already adjusted but i have noticed some inconsistencies.  Going to try and account for splits.  "
   ]
  },
  {
   "cell_type": "code",
   "execution_count": 360,
   "metadata": {},
   "outputs": [
    {
     "name": "stdout",
     "output_type": "stream",
     "text": [
      "           Date      Close  value  div_yield\n",
      "2444 2019-09-30  40.599998    0.0   1.231527\n",
      "0.5\n",
      "           Date   Close  value  div_yield\n",
      "1080 2014-04-23  15.365    0.0   2.603319\n",
      "0.3333333333333333\n"
     ]
    }
   ],
   "source": [
    "for index, row in yahoo_split_check.iterrows():\n",
    "    if not yahoo_split_check.empty:\n",
    "        #print(row['Date'])\n",
    "        test_div = new_div_yield.loc[new_div_yield['Date'] == row['Date']]\n",
    "        print(test_div)\n",
    "        print(row['value'])\n",
    "        for index_2, row_2 in new_div_yield.iterrows():\n",
    "            if row_2['Date']<=row['Date']:\n",
    "                new_div_yield['value'] = new_div_yield['value']*row['value']\n",
    "                #print(\"Old Div: {0}    New Div: {1}   Date: {2}  \".format(row_2['value'], row_2['Date']))\n",
    "            #else:\n",
    "                #print(\"no correction\")\n",
    "                \n",
    "    else:\n",
    "        print(\"No splits detected\")\n",
    "        \n"
   ]
  },
  {
   "cell_type": "code",
   "execution_count": null,
   "metadata": {},
   "outputs": [],
   "source": []
  },
  {
   "cell_type": "markdown",
   "metadata": {},
   "source": [
    "Once data is all adjusted and cleaned up - peak/trough finding/generation"
   ]
  }
 ],
 "metadata": {
  "kernelspec": {
   "display_name": "Python 3",
   "language": "python",
   "name": "python3"
  },
  "language_info": {
   "codemirror_mode": {
    "name": "ipython",
    "version": 3
   },
   "file_extension": ".py",
   "mimetype": "text/x-python",
   "name": "python",
   "nbconvert_exporter": "python",
   "pygments_lexer": "ipython3",
   "version": "3.7.4"
  }
 },
 "nbformat": 4,
 "nbformat_minor": 2
}
