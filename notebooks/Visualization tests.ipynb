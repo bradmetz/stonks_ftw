{
 "cells": [
  {
   "cell_type": "code",
   "execution_count": null,
   "metadata": {},
   "outputs": [],
   "source": [
    "import sys\n",
    "import pandas as pd\n",
    "\n",
    "sys.path.insert(0, '../')\n",
    "\n",
    "import stonks_visualize\n",
    "import stonks_transform"
   ]
  },
  {
   "cell_type": "code",
   "execution_count": null,
   "metadata": {},
   "outputs": [],
   "source": [
    "\n",
    "fig = stonks_visualize.generate_yield_graph('AAPL', 'nasdaq', '../')\n",
    "\n",
    "fig.show()"
   ]
  },
  {
   "cell_type": "code",
   "execution_count": null,
   "metadata": {},
   "outputs": [],
   "source": [
    "fig2 = stonks_visualize.generate_price_graph('AAPL', 'nasdaq', '../')\n",
    "\n",
    "fig2.show()"
   ]
  },
  {
   "cell_type": "code",
   "execution_count": null,
   "metadata": {},
   "outputs": [],
   "source": [
    "# test generate graph from dataframe\n",
    "\n",
    "dfs3 = pd.read_csv('../datasets/yield_history/yield_history_nasdaq_AAPL.csv')\n",
    "dfs3 = stonks_transform.trim_by_date(dfs3, years_back=10)\n",
    "#print(dfs3)\n",
    "fig3 = stonks_visualize.generate_yield_graph_from_df(dfs3)\n",
    "\n",
    "fig3.show()"
   ]
  },
  {
   "cell_type": "code",
   "execution_count": null,
   "metadata": {},
   "outputs": [],
   "source": [
    "import dash_bootstrap_components as dbc\n",
    "\n",
    "card = stonks_visualize.generate_ticker_card('T', 'tsx')\n"
   ]
  },
  {
   "cell_type": "code",
   "execution_count": null,
   "metadata": {},
   "outputs": [],
   "source": [
    "import plotly.express as px\n",
    "from jupyter_dash import JupyterDash\n",
    "import dash_core_components as dcc\n",
    "import dash_html_components as html\n",
    "import dash_bootstrap_components as dbc\n",
    "from dash.dependencies import Input, Output\n",
    "import plotly.express as px\n",
    "\n",
    "# Iris bar figure\n",
    "def drawFigure():\n",
    "    return  html.Div([\n",
    "        dbc.Card(\n",
    "            dbc.CardBody([\n",
    "                dcc.Graph(\n",
    "                    figure=stonks_visualize.generate_yield_graph('T', 'tsx', '../').update_layout(\n",
    "                        template='plotly_dark',\n",
    "                        plot_bgcolor= 'rgba(0, 0, 0, 0)',\n",
    "                        paper_bgcolor= 'rgba(0, 0, 0, 0)',\n",
    "                    ),\n",
    "                    config={\n",
    "                        'displayModeBar': False\n",
    "                    }\n",
    "                ) \n",
    "            ])\n",
    "        ),  \n",
    "    ])\n",
    "\n",
    "# Text field\n",
    "def drawText():\n",
    "    return html.Div([\n",
    "        dbc.Card(\n",
    "            dbc.CardBody([\n",
    "                html.Div([\n",
    "                    html.H2(\"Text\"),\n",
    "                ], style={'textAlign': 'center'}) \n",
    "            ])\n",
    "        ),\n",
    "    ])\n",
    "\n",
    "# Data\n",
    "df = px.data.iris()\n",
    "\n",
    "# Build App\n",
    "app = JupyterDash(external_stylesheets=[dbc.themes.SLATE])\n",
    "\n",
    "app.layout = html.Div([\n",
    "    dbc.Card(\n",
    "        dbc.CardBody([\n",
    "            dbc.Row([\n",
    "                dbc.Col([\n",
    "                    stonks_visualize.generate_ticker_card('T', 'tsx')\n",
    "                ], width=3),\n",
    "                dbc.Col([\n",
    "                    stonks_visualize.generate_ticker_card('T', 'nyse')\n",
    "                ], width=3),\n",
    "                dbc.Col([\n",
    "                    stonks_visualize.generate_ticker_card('AAPL', 'nasdaq')\n",
    "                ], width=3),\n",
    "                dbc.Col([\n",
    "                    stonks_visualize.generate_ticker_card('ATD.B', 'tsx')\n",
    "                ], width=3),\n",
    "            ], align='center'), \n",
    "            html.Br(),\n",
    "            dbc.Row([\n",
    "                dbc.Col([\n",
    "                    drawFigure() \n",
    "                ], width=3),\n",
    "                dbc.Col([\n",
    "                    drawFigure()\n",
    "                ], width=3),\n",
    "                dbc.Col([\n",
    "                    drawFigure() \n",
    "                ], width=6),\n",
    "            ], align='center'), \n",
    "            html.Br(),\n",
    "            dbc.Row([\n",
    "                dbc.Col([\n",
    "                    drawFigure()\n",
    "                ], width=9),\n",
    "                dbc.Col([\n",
    "                    drawFigure()\n",
    "                ], width=3),\n",
    "            ], align='center'),      \n",
    "        ]), color = 'dark'\n",
    "    )\n",
    "])\n",
    "\n",
    "# Run app and display result inline in the notebook\n",
    "app.run_server(mode='external')\n"
   ]
  },
  {
   "cell_type": "code",
   "execution_count": null,
   "metadata": {},
   "outputs": [],
   "source": []
  }
 ],
 "metadata": {
  "kernelspec": {
   "display_name": "Python 3",
   "language": "python",
   "name": "python3"
  },
  "language_info": {
   "codemirror_mode": {
    "name": "ipython",
    "version": 3
   },
   "file_extension": ".py",
   "mimetype": "text/x-python",
   "name": "python",
   "nbconvert_exporter": "python",
   "pygments_lexer": "ipython3",
   "version": "3.8.3"
  }
 },
 "nbformat": 4,
 "nbformat_minor": 4
}
