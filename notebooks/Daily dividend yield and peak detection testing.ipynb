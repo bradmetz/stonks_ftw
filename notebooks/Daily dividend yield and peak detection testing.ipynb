{
 "cells": [
  {
   "cell_type": "markdown",
   "metadata": {},
   "source": [
    "Coding for divdidend yield, peak detection, and graphing"
   ]
  },
  {
   "cell_type": "code",
   "execution_count": 43,
   "metadata": {},
   "outputs": [],
   "source": [
    "import pandas as pd\n",
    "\n",
    "dfs = pd.read_csv(f'.././datasets/tsx/DH_div_history_T.csv', keep_default_na=False)\n",
    "\n",
    "dfs2 = pd.read_csv(f'.././datasets/price_history/yahoo_price_history_T.TO.csv')\n",
    "\n"
   ]
  },
  {
   "cell_type": "code",
   "execution_count": 44,
   "metadata": {},
   "outputs": [
    {
     "name": "stdout",
     "output_type": "stream",
     "text": [
      "   Ex-Dividend Date Payout Date  Cash Amount Exchange Symbol  \\\n",
      "0        2021-03-10  2021-04-01      0.29125      TSX      T   \n",
      "1        2020-12-09  2021-01-01      0.29125      TSX      T   \n",
      "2        2020-09-09  2020-10-01      0.29125      TSX      T   \n",
      "3        2020-06-09  2020-07-02      0.29125      TSX      T   \n",
      "4        2020-03-10  2020-04-01      0.29125      TSX      T   \n",
      "..              ...         ...          ...      ...    ...   \n",
      "66       2004-09-08  2004-10-04      0.03750      TSX      T   \n",
      "67       2004-06-08  2004-07-03      0.03750      TSX      T   \n",
      "68       2004-03-09  2004-04-03      0.03750      TSX      T   \n",
      "69       2003-12-09  2004-01-03      0.03750      TSX      T   \n",
      "70       2003-09-08  2003-10-02      0.03750      TSX      T   \n",
      "\n",
      "    ex-div date epoch  payout date epoch  \n",
      "0       1615352400000      1617249600000  \n",
      "1       1607490000000      1609477200000  \n",
      "2       1599624000000      1601524800000  \n",
      "3       1591675200000      1593662400000  \n",
      "4       1583812800000      1585713600000  \n",
      "..                ...                ...  \n",
      "66      1094616000000      1096862400000  \n",
      "67      1086667200000      1088827200000  \n",
      "68      1078808400000      1080968400000  \n",
      "69      1070946000000      1073106000000  \n",
      "70      1062993600000      1065067200000  \n",
      "\n",
      "[71 rows x 7 columns]\n"
     ]
    }
   ],
   "source": [
    "print(dfs)"
   ]
  },
  {
   "cell_type": "code",
   "execution_count": 45,
   "metadata": {},
   "outputs": [
    {
     "name": "stdout",
     "output_type": "stream",
     "text": [
      "            Date   Open   High    Low  Close   Volume  Dividends  \\\n",
      "0     1995-01-12   2.18   2.18   2.14   2.16   394400        0.0   \n",
      "1     1995-01-13   2.18   2.18   2.12   2.13    76000        0.0   \n",
      "2     1995-01-16   2.13   2.14   2.12   2.13    70400        0.0   \n",
      "3     1995-01-17   2.12   2.12   2.08   2.11   112400        0.0   \n",
      "4     1995-01-18   2.08   2.10   2.08   2.08    60800        0.0   \n",
      "...          ...    ...    ...    ...    ...      ...        ...   \n",
      "6433  2020-08-13  24.25  24.28  24.05  24.10  1258500        0.0   \n",
      "6434  2020-08-14  24.06  24.30  23.96  24.24  1258100        0.0   \n",
      "6435  2020-08-17  24.22  24.23  24.01  24.06  1998900        0.0   \n",
      "6436  2020-08-18  24.10  24.26  24.02  24.22  1144900        0.0   \n",
      "6437  2020-08-19  24.21  24.38  24.17  24.18  3216800        0.0   \n",
      "\n",
      "      Stock Splits symbol market     date_epoch  \n",
      "0              0.0      T    TSX   789868800000  \n",
      "1              0.0      T    TSX   789955200000  \n",
      "2              0.0      T    TSX   790214400000  \n",
      "3              0.0      T    TSX   790300800000  \n",
      "4              0.0      T    TSX   790387200000  \n",
      "...            ...    ...    ...            ...  \n",
      "6433           0.0      T    TSX  1597276800000  \n",
      "6434           0.0      T    TSX  1597363200000  \n",
      "6435           0.0      T    TSX  1597622400000  \n",
      "6436           0.0      T    TSX  1597708800000  \n",
      "6437           0.0      T    TSX  1597795200000  \n",
      "\n",
      "[6438 rows x 11 columns]\n"
     ]
    }
   ],
   "source": [
    "print(dfs2)"
   ]
  },
  {
   "cell_type": "code",
   "execution_count": 46,
   "metadata": {},
   "outputs": [
    {
     "name": "stdout",
     "output_type": "stream",
     "text": [
      "Index(['Date', 'Payout Date', 'Cash Amount', 'Exchange', 'Symbol',\n",
      "       'ex-div date epoch', 'payout date epoch'],\n",
      "      dtype='object')\n",
      "Index(['Date', 'Open', 'High', 'Low', 'Close', 'Volume', 'Dividends',\n",
      "       'Stock Splits', 'symbol', 'market', 'date_epoch'],\n",
      "      dtype='object')\n",
      "Index(['Date', 'Payout Date', 'Cash Amount', 'Exchange', 'Symbol',\n",
      "       'ex-div date epoch', 'payout date epoch', 'Close', 'Volume',\n",
      "       'Stock Splits'],\n",
      "      dtype='object')\n",
      "Date                  2019-12-10\n",
      "Payout Date           2020-01-02\n",
      "Cash Amount              0.29125\n",
      "Exchange                     TSX\n",
      "Symbol                         T\n",
      "ex-div date epoch    1.57595e+12\n",
      "payout date epoch    1.57794e+12\n",
      "Close                       24.8\n",
      "Volume                3.1384e+06\n",
      "Stock Splits                   0\n",
      "Name: 5, dtype: object\n",
      "Date                  2015-12-09\n",
      "Payout Date           2016-01-04\n",
      "Cash Amount                 0.22\n",
      "Exchange                     TSX\n",
      "Symbol                         T\n",
      "ex-div date epoch    1.44964e+12\n",
      "payout date epoch    1.45188e+12\n",
      "Close                       16.4\n",
      "Volume                4.3278e+06\n",
      "Stock Splits                   0\n",
      "Name: 21, dtype: object\n"
     ]
    }
   ],
   "source": [
    "dfs.rename(columns={'Ex-Dividend Date':'Date'}, inplace=True)\n",
    "result = pd.merge(dfs, dfs2, on=['Date'], how='outer')\n",
    "result.sort_values(by='Date', inplace=True)\n",
    "\n",
    "\n",
    "\n",
    "result.fillna(method='ffill', inplace=True)\n",
    "result.fillna(method='bfill', inplace=True)\n",
    "\n",
    "print(dfs.columns)\n",
    "print(dfs2.columns)\n",
    "result.drop(columns=['Open', 'High', 'Low', 'Dividends', 'symbol', 'market', 'date_epoch'], inplace=True)\n",
    "print(result.columns)\n",
    "print(result.loc[5])\n",
    "print(result.loc[21])"
   ]
  },
  {
   "cell_type": "code",
   "execution_count": 21,
   "metadata": {},
   "outputs": [
    {
     "ename": "ValueError",
     "evalue": "You are trying to merge on object and int64 columns. If you wish to proceed you should use pd.concat",
     "output_type": "error",
     "traceback": [
      "\u001b[0;31m---------------------------------------------------------------------------\u001b[0m",
      "\u001b[0;31mValueError\u001b[0m                                Traceback (most recent call last)",
      "\u001b[0;32m<ipython-input-21-de30841674ef>\u001b[0m in \u001b[0;36m<module>\u001b[0;34m\u001b[0m\n\u001b[0;32m----> 1\u001b[0;31m \u001b[0mjoined\u001b[0m \u001b[0;34m=\u001b[0m \u001b[0mdfs\u001b[0m\u001b[0;34m.\u001b[0m\u001b[0mjoin\u001b[0m\u001b[0;34m(\u001b[0m\u001b[0mdfs2\u001b[0m\u001b[0;34m,\u001b[0m \u001b[0mon\u001b[0m\u001b[0;34m=\u001b[0m\u001b[0;34m'Date'\u001b[0m\u001b[0;34m)\u001b[0m\u001b[0;34m\u001b[0m\u001b[0;34m\u001b[0m\u001b[0m\n\u001b[0m",
      "\u001b[0;32m~/anaconda3/lib/python3.7/site-packages/pandas/core/frame.py\u001b[0m in \u001b[0;36mjoin\u001b[0;34m(self, other, on, how, lsuffix, rsuffix, sort)\u001b[0m\n\u001b[1;32m   7207\u001b[0m         \"\"\"\n\u001b[1;32m   7208\u001b[0m         return self._join_compat(\n\u001b[0;32m-> 7209\u001b[0;31m             \u001b[0mother\u001b[0m\u001b[0;34m,\u001b[0m \u001b[0mon\u001b[0m\u001b[0;34m=\u001b[0m\u001b[0mon\u001b[0m\u001b[0;34m,\u001b[0m \u001b[0mhow\u001b[0m\u001b[0;34m=\u001b[0m\u001b[0mhow\u001b[0m\u001b[0;34m,\u001b[0m \u001b[0mlsuffix\u001b[0m\u001b[0;34m=\u001b[0m\u001b[0mlsuffix\u001b[0m\u001b[0;34m,\u001b[0m \u001b[0mrsuffix\u001b[0m\u001b[0;34m=\u001b[0m\u001b[0mrsuffix\u001b[0m\u001b[0;34m,\u001b[0m \u001b[0msort\u001b[0m\u001b[0;34m=\u001b[0m\u001b[0msort\u001b[0m\u001b[0;34m\u001b[0m\u001b[0;34m\u001b[0m\u001b[0m\n\u001b[0m\u001b[1;32m   7210\u001b[0m         )\n\u001b[1;32m   7211\u001b[0m \u001b[0;34m\u001b[0m\u001b[0m\n",
      "\u001b[0;32m~/anaconda3/lib/python3.7/site-packages/pandas/core/frame.py\u001b[0m in \u001b[0;36m_join_compat\u001b[0;34m(self, other, on, how, lsuffix, rsuffix, sort)\u001b[0m\n\u001b[1;32m   7230\u001b[0m                 \u001b[0mright_index\u001b[0m\u001b[0;34m=\u001b[0m\u001b[0;32mTrue\u001b[0m\u001b[0;34m,\u001b[0m\u001b[0;34m\u001b[0m\u001b[0;34m\u001b[0m\u001b[0m\n\u001b[1;32m   7231\u001b[0m                 \u001b[0msuffixes\u001b[0m\u001b[0;34m=\u001b[0m\u001b[0;34m(\u001b[0m\u001b[0mlsuffix\u001b[0m\u001b[0;34m,\u001b[0m \u001b[0mrsuffix\u001b[0m\u001b[0;34m)\u001b[0m\u001b[0;34m,\u001b[0m\u001b[0;34m\u001b[0m\u001b[0;34m\u001b[0m\u001b[0m\n\u001b[0;32m-> 7232\u001b[0;31m                 \u001b[0msort\u001b[0m\u001b[0;34m=\u001b[0m\u001b[0msort\u001b[0m\u001b[0;34m,\u001b[0m\u001b[0;34m\u001b[0m\u001b[0;34m\u001b[0m\u001b[0m\n\u001b[0m\u001b[1;32m   7233\u001b[0m             )\n\u001b[1;32m   7234\u001b[0m         \u001b[0;32melse\u001b[0m\u001b[0;34m:\u001b[0m\u001b[0;34m\u001b[0m\u001b[0;34m\u001b[0m\u001b[0m\n",
      "\u001b[0;32m~/anaconda3/lib/python3.7/site-packages/pandas/core/reshape/merge.py\u001b[0m in \u001b[0;36mmerge\u001b[0;34m(left, right, how, on, left_on, right_on, left_index, right_index, sort, suffixes, copy, indicator, validate)\u001b[0m\n\u001b[1;32m     84\u001b[0m         \u001b[0mcopy\u001b[0m\u001b[0;34m=\u001b[0m\u001b[0mcopy\u001b[0m\u001b[0;34m,\u001b[0m\u001b[0;34m\u001b[0m\u001b[0;34m\u001b[0m\u001b[0m\n\u001b[1;32m     85\u001b[0m         \u001b[0mindicator\u001b[0m\u001b[0;34m=\u001b[0m\u001b[0mindicator\u001b[0m\u001b[0;34m,\u001b[0m\u001b[0;34m\u001b[0m\u001b[0;34m\u001b[0m\u001b[0m\n\u001b[0;32m---> 86\u001b[0;31m         \u001b[0mvalidate\u001b[0m\u001b[0;34m=\u001b[0m\u001b[0mvalidate\u001b[0m\u001b[0;34m,\u001b[0m\u001b[0;34m\u001b[0m\u001b[0;34m\u001b[0m\u001b[0m\n\u001b[0m\u001b[1;32m     87\u001b[0m     )\n\u001b[1;32m     88\u001b[0m     \u001b[0;32mreturn\u001b[0m \u001b[0mop\u001b[0m\u001b[0;34m.\u001b[0m\u001b[0mget_result\u001b[0m\u001b[0;34m(\u001b[0m\u001b[0;34m)\u001b[0m\u001b[0;34m\u001b[0m\u001b[0;34m\u001b[0m\u001b[0m\n",
      "\u001b[0;32m~/anaconda3/lib/python3.7/site-packages/pandas/core/reshape/merge.py\u001b[0m in \u001b[0;36m__init__\u001b[0;34m(self, left, right, how, on, left_on, right_on, axis, left_index, right_index, sort, suffixes, copy, indicator, validate)\u001b[0m\n\u001b[1;32m    629\u001b[0m         \u001b[0;31m# validate the merge keys dtypes. We may need to coerce\u001b[0m\u001b[0;34m\u001b[0m\u001b[0;34m\u001b[0m\u001b[0;34m\u001b[0m\u001b[0m\n\u001b[1;32m    630\u001b[0m         \u001b[0;31m# to avoid incompat dtypes\u001b[0m\u001b[0;34m\u001b[0m\u001b[0;34m\u001b[0m\u001b[0;34m\u001b[0m\u001b[0m\n\u001b[0;32m--> 631\u001b[0;31m         \u001b[0mself\u001b[0m\u001b[0;34m.\u001b[0m\u001b[0m_maybe_coerce_merge_keys\u001b[0m\u001b[0;34m(\u001b[0m\u001b[0;34m)\u001b[0m\u001b[0;34m\u001b[0m\u001b[0;34m\u001b[0m\u001b[0m\n\u001b[0m\u001b[1;32m    632\u001b[0m \u001b[0;34m\u001b[0m\u001b[0m\n\u001b[1;32m    633\u001b[0m         \u001b[0;31m# If argument passed to validate,\u001b[0m\u001b[0;34m\u001b[0m\u001b[0;34m\u001b[0m\u001b[0;34m\u001b[0m\u001b[0m\n",
      "\u001b[0;32m~/anaconda3/lib/python3.7/site-packages/pandas/core/reshape/merge.py\u001b[0m in \u001b[0;36m_maybe_coerce_merge_keys\u001b[0;34m(self)\u001b[0m\n\u001b[1;32m   1144\u001b[0m                     \u001b[0minferred_right\u001b[0m \u001b[0;32min\u001b[0m \u001b[0mstring_types\u001b[0m \u001b[0;32mand\u001b[0m \u001b[0minferred_left\u001b[0m \u001b[0;32mnot\u001b[0m \u001b[0;32min\u001b[0m \u001b[0mstring_types\u001b[0m\u001b[0;34m\u001b[0m\u001b[0;34m\u001b[0m\u001b[0m\n\u001b[1;32m   1145\u001b[0m                 ):\n\u001b[0;32m-> 1146\u001b[0;31m                     \u001b[0;32mraise\u001b[0m \u001b[0mValueError\u001b[0m\u001b[0;34m(\u001b[0m\u001b[0mmsg\u001b[0m\u001b[0;34m)\u001b[0m\u001b[0;34m\u001b[0m\u001b[0;34m\u001b[0m\u001b[0m\n\u001b[0m\u001b[1;32m   1147\u001b[0m \u001b[0;34m\u001b[0m\u001b[0m\n\u001b[1;32m   1148\u001b[0m             \u001b[0;31m# datetimelikes must match exactly\u001b[0m\u001b[0;34m\u001b[0m\u001b[0;34m\u001b[0m\u001b[0;34m\u001b[0m\u001b[0m\n",
      "\u001b[0;31mValueError\u001b[0m: You are trying to merge on object and int64 columns. If you wish to proceed you should use pd.concat"
     ]
    }
   ],
   "source": [
    "joined = dfs.join(dfs2, on='Date')"
   ]
  },
  {
   "cell_type": "code",
   "execution_count": null,
   "metadata": {},
   "outputs": [],
   "source": []
  }
 ],
 "metadata": {
  "kernelspec": {
   "display_name": "Python 3",
   "language": "python",
   "name": "python3"
  },
  "language_info": {
   "codemirror_mode": {
    "name": "ipython",
    "version": 3
   },
   "file_extension": ".py",
   "mimetype": "text/x-python",
   "name": "python",
   "nbconvert_exporter": "python",
   "pygments_lexer": "ipython3",
   "version": "3.7.4"
  }
 },
 "nbformat": 4,
 "nbformat_minor": 4
}
