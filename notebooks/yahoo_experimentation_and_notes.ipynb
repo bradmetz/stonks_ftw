{
 "cells": [
  {
   "cell_type": "markdown",
   "metadata": {},
   "source": [
    "<h1>Testing out Jupyter and yahoo finance API with pandas</h1>\n",
    "    \n",
    "Will be experimenting with this for API testing and playing with new concepts as well as taking notes. \n",
    "\n",
    "<b>Sources to look at in the future</b>\n",
    "Using yahoo finance in most work below.  \n",
    "\n",
    "Just came across the dividendhistory.org weekly reports which include P/E, P/B, payout ratio.  Need to writw up a quick scraper/collector to pull these down each week on Fridays. <br>\n",
    "link: https://dividendhistory.org/report/ <br>\n",
    "link US report: https://dividendhistory.org/reports/USA/2020-01-31-report.htm <br>\n",
    "link CAN report: https://dividendhistory.org/reports/CAN/2020-01-31-report.htm <br>\n",
    "\n",
    "\n",
    "To run a symbol through all code below, simply change variable <b>ticker</b> below and run all code. \n"
   ]
  },
  {
   "cell_type": "code",
   "execution_count": 2,
   "metadata": {},
   "outputs": [
    {
     "name": "stdout",
     "output_type": "stream",
     "text": [
      "[*********************100%***********************]  1 of 1 completed\n",
      "           Date       Open       High        Low      Close  Adj Close  \\\n",
      "0    2010-01-04   3.470000   3.480000   3.376670   3.386670   2.661294   \n",
      "1    2010-01-05   3.401670   3.415000   3.333330   3.370000   2.648195   \n",
      "2    2010-01-06   3.368330   3.381670   3.343330   3.358330   2.639024   \n",
      "3    2010-01-07   3.340000   3.441670   3.335000   3.415000   2.683557   \n",
      "4    2010-01-08   3.405000   3.415000   3.356670   3.370000   2.648195   \n",
      "...         ...        ...        ...        ...        ...        ...   \n",
      "2516 2020-01-14  42.959999  43.860001  42.799999  43.790001  43.790001   \n",
      "2517 2020-01-15  43.759998  44.049999  43.119999  43.959999  43.959999   \n",
      "2518 2020-01-16  44.049999  44.299999  43.790001  44.250000  44.250000   \n",
      "2519 2020-01-17  44.290001  44.590000  43.980000  44.430000  44.430000   \n",
      "2520 2020-01-20  44.430000  44.750000  44.299999  44.669998  44.669998   \n",
      "\n",
      "       Volume  \n",
      "0      800418  \n",
      "1      765234  \n",
      "2     1322112  \n",
      "3     2813490  \n",
      "4     2079372  \n",
      "...       ...  \n",
      "2516  1432525  \n",
      "2517  1106334  \n",
      "2518   953691  \n",
      "2519   829575  \n",
      "2520   354738  \n",
      "\n",
      "[2521 rows x 7 columns]\n"
     ]
    }
   ],
   "source": [
    "import pandas as pd\n",
    "import pandas_datareader.data as pdr\n",
    "import yfinance as yf\n",
    "\n",
    "yf.pdr_override()\n",
    "# global test parameters for workflow\n",
    "ticker = 'ATD-B.TO'\n",
    "start_date = '2010-01-01'\n",
    "end_date = '2020-01-20'\n",
    "\n",
    "yahoo_price_check = pdr.DataReader(ticker,  start=start_date, end=end_date, data_source='yahoo')\n",
    "yahoo_price_check.reset_index(inplace=True,drop=False)\n",
    "print(yahoo_price_check)\n"
   ]
  },
  {
   "cell_type": "markdown",
   "metadata": {},
   "source": [
    "    Alright so that is working ok.  Now lets get some dividend.  May need to try out adj close to account for splits\n",
    "    \n",
    "    so the date is used as index but cannot be referenced for joining later.  I reset the index to generic integer based index.  Doing thing on the price dataframe gives a regular Date column but for some reason, the same conversion leaves date labelled 'index' for yahoo-actions.  Quick relabel after reindexing should make this joinable. "
   ]
  },
  {
   "cell_type": "code",
   "execution_count": 3,
   "metadata": {},
   "outputs": [
    {
     "name": "stdout",
     "output_type": "stream",
     "text": [
      "[*********************100%***********************]  1 of 1 completed\n",
      "           Date       Open       High        Low      Close  Adj Close  \\\n",
      "0    2010-01-04   3.470000   3.480000   3.376670   3.386670   2.661294   \n",
      "1    2010-01-05   3.401670   3.415000   3.333330   3.370000   2.648195   \n",
      "2    2010-01-06   3.368330   3.381670   3.343330   3.358330   2.639024   \n",
      "3    2010-01-07   3.340000   3.441670   3.335000   3.415000   2.683557   \n",
      "4    2010-01-08   3.405000   3.415000   3.356670   3.370000   2.648195   \n",
      "...         ...        ...        ...        ...        ...        ...   \n",
      "2516 2020-01-14  42.959999  43.860001  42.799999  43.790001  43.790001   \n",
      "2517 2020-01-15  43.759998  44.049999  43.119999  43.959999  43.959999   \n",
      "2518 2020-01-16  44.049999  44.299999  43.790001  44.250000  44.250000   \n",
      "2519 2020-01-17  44.290001  44.590000  43.980000  44.430000  44.430000   \n",
      "2520 2020-01-20  44.430000  44.750000  44.299999  44.669998  44.669998   \n",
      "\n",
      "       Volume  \n",
      "0      800418  \n",
      "1      765234  \n",
      "2     1322112  \n",
      "3     2813490  \n",
      "4     2079372  \n",
      "...       ...  \n",
      "2516  1432525  \n",
      "2517  1106334  \n",
      "2518   953691  \n",
      "2519   829575  \n",
      "2520   354738  \n",
      "\n",
      "[2521 rows x 7 columns]\n"
     ]
    }
   ],
   "source": [
    "yf.pdr_override()\n",
    "\n",
    "yahoo_div_check = pdr.DataReader(ticker, start=start_date, end=end_date, data_source='yahoo-actions')\n",
    "yahoo_div_check.reset_index(inplace=True,drop=False)\n",
    "yahoo_div_check = yahoo_div_check.rename(columns={'index':'Date'})\n",
    "print(yahoo_div_check)"
   ]
  },
  {
   "cell_type": "markdown",
   "metadata": {},
   "source": [
    "OK so the yahoo-actions override is not working ... no worries.  yfinance refactor may be the better option.  \n",
    "Test sections below."
   ]
  },
  {
   "cell_type": "code",
   "execution_count": 4,
   "metadata": {},
   "outputs": [
    {
     "name": "stdout",
     "output_type": "stream",
     "text": [
      "            Dividends  Stock Splits\n",
      "Date                               \n",
      "1987-09-21       0.00           2.0\n",
      "1990-04-16       0.00           2.0\n",
      "1991-06-27       0.00           1.5\n",
      "1992-06-15       0.00           1.5\n",
      "1994-05-23       0.00           2.0\n",
      "...               ...           ...\n",
      "2019-02-20       0.46           0.0\n",
      "2019-05-15       0.46           0.0\n",
      "2019-08-14       0.46           0.0\n",
      "2019-11-20       0.51           0.0\n",
      "2020-02-19       0.51           0.0\n",
      "\n",
      "[74 rows x 2 columns]\n"
     ]
    },
    {
     "data": {
      "text/html": [
       "<div>\n",
       "<style scoped>\n",
       "    .dataframe tbody tr th:only-of-type {\n",
       "        vertical-align: middle;\n",
       "    }\n",
       "\n",
       "    .dataframe tbody tr th {\n",
       "        vertical-align: top;\n",
       "    }\n",
       "\n",
       "    .dataframe thead th {\n",
       "        text-align: right;\n",
       "    }\n",
       "</style>\n",
       "<table border=\"1\" class=\"dataframe\">\n",
       "  <thead>\n",
       "    <tr style=\"text-align: right;\">\n",
       "      <th></th>\n",
       "      <th>0</th>\n",
       "      <th>1</th>\n",
       "    </tr>\n",
       "  </thead>\n",
       "  <tbody>\n",
       "    <tr>\n",
       "      <td>Earnings Date</td>\n",
       "      <td>2020-04-22 00:00:00</td>\n",
       "      <td>2020-04-27 00:00:00</td>\n",
       "    </tr>\n",
       "    <tr>\n",
       "      <td>Earnings Average</td>\n",
       "      <td>1.33</td>\n",
       "      <td>1.33</td>\n",
       "    </tr>\n",
       "    <tr>\n",
       "      <td>Earnings Low</td>\n",
       "      <td>1.3</td>\n",
       "      <td>1.3</td>\n",
       "    </tr>\n",
       "    <tr>\n",
       "      <td>Earnings High</td>\n",
       "      <td>1.43</td>\n",
       "      <td>1.43</td>\n",
       "    </tr>\n",
       "    <tr>\n",
       "      <td>Revenue Average</td>\n",
       "      <td>34606800000</td>\n",
       "      <td>34606800000</td>\n",
       "    </tr>\n",
       "    <tr>\n",
       "      <td>Revenue Low</td>\n",
       "      <td>34325200000</td>\n",
       "      <td>34325200000</td>\n",
       "    </tr>\n",
       "    <tr>\n",
       "      <td>Revenue High</td>\n",
       "      <td>35111000000</td>\n",
       "      <td>35111000000</td>\n",
       "    </tr>\n",
       "  </tbody>\n",
       "</table>\n",
       "</div>"
      ],
      "text/plain": [
       "                                    0                    1\n",
       "Earnings Date     2020-04-22 00:00:00  2020-04-27 00:00:00\n",
       "Earnings Average                 1.33                 1.33\n",
       "Earnings Low                      1.3                  1.3\n",
       "Earnings High                    1.43                 1.43\n",
       "Revenue Average           34606800000          34606800000\n",
       "Revenue Low               34325200000          34325200000\n",
       "Revenue High              35111000000          35111000000"
      ]
     },
     "execution_count": 4,
     "metadata": {},
     "output_type": "execute_result"
    }
   ],
   "source": [
    "import yfinance as yf\n",
    "\n",
    "msft = yf.Ticker(\"MSFT\")\n",
    "\n",
    "# get stock info\n",
    "msft.info\n",
    "\n",
    "# get historical market data\n",
    "hist = msft.history(period=\"max\")\n",
    "\n",
    "# show actions (dividends, splits)\n",
    "print(msft.actions)\n",
    "\n",
    "# show dividends\n",
    "msft.dividends\n",
    "\n",
    "# show splits\n",
    "msft.splits\n",
    "\n",
    "# show financials\n",
    "msft.financials\n",
    "msft.quarterly_financials\n",
    "\n",
    "# show major holders\n",
    "msft.major_holders\n",
    "\n",
    "# show institutional holders\n",
    "msft.institutional_holders\n",
    "\n",
    "# show balance heet\n",
    "msft.balance_sheet\n",
    "msft.quarterly_balance_sheet\n",
    "\n",
    "# show cashflow\n",
    "msft.cashflow\n",
    "msft.quarterly_cashflow\n",
    "\n",
    "# show earnings\n",
    "msft.earnings\n",
    "msft.quarterly_earnings\n",
    "\n",
    "# show sustainability\n",
    "msft.sustainability\n",
    "\n",
    "# show analysts recommendations\n",
    "msft.recommendations\n",
    "\n",
    "# show next event (earnings, etc)\n",
    "msft.calendar\n",
    "\n",
    "# show ISIN code - *experimental*\n",
    "# ISIN = International Securities Identification Number\n",
    "#msft.isin\n",
    "\n",
    "# show options expirations\n",
    "#msft.options\n",
    "\n",
    "# get option chain for specific expiration\n",
    "#opt = msft.option_chain('YYYY-MM-DD')\n",
    "# data available via: opt.calls, opt.puts"
   ]
  },
  {
   "cell_type": "markdown",
   "metadata": {},
   "source": [
    "Alright hitting a problem now with pandas datareader for yahoo.  Quick bit of research shows that using a library called yfinance (https://pypi.org/project/yfinance/) maybe the better option for accessing this data.  can install yfinance from pip and there is a function call that allows for pdr override with a single function call.  Maybe a painless fix.  \n",
    "\n",
    "Also need to start exploring other API options as yahoo is deprecated and may become unreliable. "
   ]
  },
  {
   "cell_type": "markdown",
   "metadata": {},
   "source": [
    "<b> Playing with Graphing Data from Yahoo Finance </b>"
   ]
  },
  {
   "cell_type": "code",
   "execution_count": 5,
   "metadata": {},
   "outputs": [
    {
     "ename": "KeyError",
     "evalue": "'value'",
     "output_type": "error",
     "traceback": [
      "\u001b[0;31m---------------------------------------------------------------------------\u001b[0m",
      "\u001b[0;31mKeyError\u001b[0m                                  Traceback (most recent call last)",
      "\u001b[0;32m~/anaconda3/lib/python3.7/site-packages/pandas/core/indexes/base.py\u001b[0m in \u001b[0;36mget_loc\u001b[0;34m(self, key, method, tolerance)\u001b[0m\n\u001b[1;32m   2896\u001b[0m             \u001b[0;32mtry\u001b[0m\u001b[0;34m:\u001b[0m\u001b[0;34m\u001b[0m\u001b[0;34m\u001b[0m\u001b[0m\n\u001b[0;32m-> 2897\u001b[0;31m                 \u001b[0;32mreturn\u001b[0m \u001b[0mself\u001b[0m\u001b[0;34m.\u001b[0m\u001b[0m_engine\u001b[0m\u001b[0;34m.\u001b[0m\u001b[0mget_loc\u001b[0m\u001b[0;34m(\u001b[0m\u001b[0mkey\u001b[0m\u001b[0;34m)\u001b[0m\u001b[0;34m\u001b[0m\u001b[0;34m\u001b[0m\u001b[0m\n\u001b[0m\u001b[1;32m   2898\u001b[0m             \u001b[0;32mexcept\u001b[0m \u001b[0mKeyError\u001b[0m\u001b[0;34m:\u001b[0m\u001b[0;34m\u001b[0m\u001b[0;34m\u001b[0m\u001b[0m\n",
      "\u001b[0;32mpandas/_libs/index.pyx\u001b[0m in \u001b[0;36mpandas._libs.index.IndexEngine.get_loc\u001b[0;34m()\u001b[0m\n",
      "\u001b[0;32mpandas/_libs/index.pyx\u001b[0m in \u001b[0;36mpandas._libs.index.IndexEngine.get_loc\u001b[0;34m()\u001b[0m\n",
      "\u001b[0;32mpandas/_libs/hashtable_class_helper.pxi\u001b[0m in \u001b[0;36mpandas._libs.hashtable.PyObjectHashTable.get_item\u001b[0;34m()\u001b[0m\n",
      "\u001b[0;32mpandas/_libs/hashtable_class_helper.pxi\u001b[0m in \u001b[0;36mpandas._libs.hashtable.PyObjectHashTable.get_item\u001b[0;34m()\u001b[0m\n",
      "\u001b[0;31mKeyError\u001b[0m: 'value'",
      "\nDuring handling of the above exception, another exception occurred:\n",
      "\u001b[0;31mKeyError\u001b[0m                                  Traceback (most recent call last)",
      "\u001b[0;32m<ipython-input-5-fead9ba9ec82>\u001b[0m in \u001b[0;36m<module>\u001b[0;34m\u001b[0m\n\u001b[1;32m      6\u001b[0m \u001b[0mregister_matplotlib_converters\u001b[0m\u001b[0;34m(\u001b[0m\u001b[0;34m)\u001b[0m\u001b[0;34m\u001b[0m\u001b[0;34m\u001b[0m\u001b[0m\n\u001b[1;32m      7\u001b[0m \u001b[0;34m\u001b[0m\u001b[0m\n\u001b[0;32m----> 8\u001b[0;31m \u001b[0mplt\u001b[0m\u001b[0;34m.\u001b[0m\u001b[0mscatter\u001b[0m\u001b[0;34m(\u001b[0m\u001b[0myahoo_div_check\u001b[0m\u001b[0;34m[\u001b[0m\u001b[0;34m'Date'\u001b[0m\u001b[0;34m]\u001b[0m\u001b[0;34m,\u001b[0m \u001b[0myahoo_div_check\u001b[0m\u001b[0;34m[\u001b[0m\u001b[0;34m'value'\u001b[0m\u001b[0;34m]\u001b[0m\u001b[0;34m,\u001b[0m \u001b[0mcolor\u001b[0m \u001b[0;34m=\u001b[0m \u001b[0;34m'red'\u001b[0m\u001b[0;34m)\u001b[0m\u001b[0;34m\u001b[0m\u001b[0;34m\u001b[0m\u001b[0m\n\u001b[0m\u001b[1;32m      9\u001b[0m \u001b[0mplt\u001b[0m\u001b[0;34m.\u001b[0m\u001b[0mtitle\u001b[0m\u001b[0;34m(\u001b[0m\u001b[0;34m'Test Yahoo Dividends over time'\u001b[0m\u001b[0;34m)\u001b[0m\u001b[0;34m\u001b[0m\u001b[0;34m\u001b[0m\u001b[0m\n\u001b[1;32m     10\u001b[0m \u001b[0mplt\u001b[0m\u001b[0;34m.\u001b[0m\u001b[0mxlabel\u001b[0m\u001b[0;34m(\u001b[0m\u001b[0;34m'Date'\u001b[0m\u001b[0;34m)\u001b[0m\u001b[0;34m\u001b[0m\u001b[0;34m\u001b[0m\u001b[0m\n",
      "\u001b[0;32m~/anaconda3/lib/python3.7/site-packages/pandas/core/frame.py\u001b[0m in \u001b[0;36m__getitem__\u001b[0;34m(self, key)\u001b[0m\n\u001b[1;32m   2978\u001b[0m             \u001b[0;32mif\u001b[0m \u001b[0mself\u001b[0m\u001b[0;34m.\u001b[0m\u001b[0mcolumns\u001b[0m\u001b[0;34m.\u001b[0m\u001b[0mnlevels\u001b[0m \u001b[0;34m>\u001b[0m \u001b[0;36m1\u001b[0m\u001b[0;34m:\u001b[0m\u001b[0;34m\u001b[0m\u001b[0;34m\u001b[0m\u001b[0m\n\u001b[1;32m   2979\u001b[0m                 \u001b[0;32mreturn\u001b[0m \u001b[0mself\u001b[0m\u001b[0;34m.\u001b[0m\u001b[0m_getitem_multilevel\u001b[0m\u001b[0;34m(\u001b[0m\u001b[0mkey\u001b[0m\u001b[0;34m)\u001b[0m\u001b[0;34m\u001b[0m\u001b[0;34m\u001b[0m\u001b[0m\n\u001b[0;32m-> 2980\u001b[0;31m             \u001b[0mindexer\u001b[0m \u001b[0;34m=\u001b[0m \u001b[0mself\u001b[0m\u001b[0;34m.\u001b[0m\u001b[0mcolumns\u001b[0m\u001b[0;34m.\u001b[0m\u001b[0mget_loc\u001b[0m\u001b[0;34m(\u001b[0m\u001b[0mkey\u001b[0m\u001b[0;34m)\u001b[0m\u001b[0;34m\u001b[0m\u001b[0;34m\u001b[0m\u001b[0m\n\u001b[0m\u001b[1;32m   2981\u001b[0m             \u001b[0;32mif\u001b[0m \u001b[0mis_integer\u001b[0m\u001b[0;34m(\u001b[0m\u001b[0mindexer\u001b[0m\u001b[0;34m)\u001b[0m\u001b[0;34m:\u001b[0m\u001b[0;34m\u001b[0m\u001b[0;34m\u001b[0m\u001b[0m\n\u001b[1;32m   2982\u001b[0m                 \u001b[0mindexer\u001b[0m \u001b[0;34m=\u001b[0m \u001b[0;34m[\u001b[0m\u001b[0mindexer\u001b[0m\u001b[0;34m]\u001b[0m\u001b[0;34m\u001b[0m\u001b[0;34m\u001b[0m\u001b[0m\n",
      "\u001b[0;32m~/anaconda3/lib/python3.7/site-packages/pandas/core/indexes/base.py\u001b[0m in \u001b[0;36mget_loc\u001b[0;34m(self, key, method, tolerance)\u001b[0m\n\u001b[1;32m   2897\u001b[0m                 \u001b[0;32mreturn\u001b[0m \u001b[0mself\u001b[0m\u001b[0;34m.\u001b[0m\u001b[0m_engine\u001b[0m\u001b[0;34m.\u001b[0m\u001b[0mget_loc\u001b[0m\u001b[0;34m(\u001b[0m\u001b[0mkey\u001b[0m\u001b[0;34m)\u001b[0m\u001b[0;34m\u001b[0m\u001b[0;34m\u001b[0m\u001b[0m\n\u001b[1;32m   2898\u001b[0m             \u001b[0;32mexcept\u001b[0m \u001b[0mKeyError\u001b[0m\u001b[0;34m:\u001b[0m\u001b[0;34m\u001b[0m\u001b[0;34m\u001b[0m\u001b[0m\n\u001b[0;32m-> 2899\u001b[0;31m                 \u001b[0;32mreturn\u001b[0m \u001b[0mself\u001b[0m\u001b[0;34m.\u001b[0m\u001b[0m_engine\u001b[0m\u001b[0;34m.\u001b[0m\u001b[0mget_loc\u001b[0m\u001b[0;34m(\u001b[0m\u001b[0mself\u001b[0m\u001b[0;34m.\u001b[0m\u001b[0m_maybe_cast_indexer\u001b[0m\u001b[0;34m(\u001b[0m\u001b[0mkey\u001b[0m\u001b[0;34m)\u001b[0m\u001b[0;34m)\u001b[0m\u001b[0;34m\u001b[0m\u001b[0;34m\u001b[0m\u001b[0m\n\u001b[0m\u001b[1;32m   2900\u001b[0m         \u001b[0mindexer\u001b[0m \u001b[0;34m=\u001b[0m \u001b[0mself\u001b[0m\u001b[0;34m.\u001b[0m\u001b[0mget_indexer\u001b[0m\u001b[0;34m(\u001b[0m\u001b[0;34m[\u001b[0m\u001b[0mkey\u001b[0m\u001b[0;34m]\u001b[0m\u001b[0;34m,\u001b[0m \u001b[0mmethod\u001b[0m\u001b[0;34m=\u001b[0m\u001b[0mmethod\u001b[0m\u001b[0;34m,\u001b[0m \u001b[0mtolerance\u001b[0m\u001b[0;34m=\u001b[0m\u001b[0mtolerance\u001b[0m\u001b[0;34m)\u001b[0m\u001b[0;34m\u001b[0m\u001b[0;34m\u001b[0m\u001b[0m\n\u001b[1;32m   2901\u001b[0m         \u001b[0;32mif\u001b[0m \u001b[0mindexer\u001b[0m\u001b[0;34m.\u001b[0m\u001b[0mndim\u001b[0m \u001b[0;34m>\u001b[0m \u001b[0;36m1\u001b[0m \u001b[0;32mor\u001b[0m \u001b[0mindexer\u001b[0m\u001b[0;34m.\u001b[0m\u001b[0msize\u001b[0m \u001b[0;34m>\u001b[0m \u001b[0;36m1\u001b[0m\u001b[0;34m:\u001b[0m\u001b[0;34m\u001b[0m\u001b[0;34m\u001b[0m\u001b[0m\n",
      "\u001b[0;32mpandas/_libs/index.pyx\u001b[0m in \u001b[0;36mpandas._libs.index.IndexEngine.get_loc\u001b[0;34m()\u001b[0m\n",
      "\u001b[0;32mpandas/_libs/index.pyx\u001b[0m in \u001b[0;36mpandas._libs.index.IndexEngine.get_loc\u001b[0;34m()\u001b[0m\n",
      "\u001b[0;32mpandas/_libs/hashtable_class_helper.pxi\u001b[0m in \u001b[0;36mpandas._libs.hashtable.PyObjectHashTable.get_item\u001b[0;34m()\u001b[0m\n",
      "\u001b[0;32mpandas/_libs/hashtable_class_helper.pxi\u001b[0m in \u001b[0;36mpandas._libs.hashtable.PyObjectHashTable.get_item\u001b[0;34m()\u001b[0m\n",
      "\u001b[0;31mKeyError\u001b[0m: 'value'"
     ]
    }
   ],
   "source": [
    "import matplotlib.pyplot as plt\n",
    "from pandas.plotting import register_matplotlib_converters\n",
    "\n",
    "\n",
    "\n",
    "register_matplotlib_converters()\n",
    "\n",
    "plt.scatter(yahoo_div_check['Date'], yahoo_div_check['value'], color = 'red')\n",
    "plt.title('Test Yahoo Dividends over time')\n",
    "plt.xlabel('Date')\n",
    "plt.ylabel('Dividend Amount')\n",
    "plt.show()"
   ]
  },
  {
   "cell_type": "code",
   "execution_count": null,
   "metadata": {},
   "outputs": [],
   "source": [
    "#yahoo_div_check = pdr.DataReader(ticker, start='2004-01-01', end='2019-12-30', data_source='yahoo-actions')\n",
    "print(yahoo_div_check)"
   ]
  },
  {
   "cell_type": "markdown",
   "metadata": {},
   "source": [
    "Show all non-DIVIDEND actions. "
   ]
  },
  {
   "cell_type": "code",
   "execution_count": null,
   "metadata": {},
   "outputs": [],
   "source": [
    "yahoo_div_check = pdr.DataReader(ticker, start=start_date, end=end_date, data_source='yahoo-actions')\n",
    "yahoo_div_check = yahoo_div_check[yahoo_div_check.action != \"DIVIDEND\"]\n",
    "yahoo_div_check.reset_index(inplace=True,drop=False)\n",
    "yahoo_div_check = yahoo_div_check.rename(columns={'index':'Date'})\n",
    "print(yahoo_div_check)"
   ]
  },
  {
   "cell_type": "markdown",
   "metadata": {},
   "source": [
    "So the outlier was a stock split not a dividend.  Should remove those.  Also whats happening pre-2002?"
   ]
  },
  {
   "cell_type": "code",
   "execution_count": null,
   "metadata": {},
   "outputs": [],
   "source": [
    "yahoo_action_check = pdr.DataReader(ticker, start=start_date, end=end_date, data_source='yahoo-actions')\n",
    "yahoo_div_check = yahoo_action_check[yahoo_action_check.action == \"DIVIDEND\"]\n",
    "yahoo_split_check = yahoo_action_check[yahoo_action_check.action == \"SPLIT\"]\n",
    "yahoo_other_check = yahoo_action_check[yahoo_action_check.action != \"DIVIDEND\"]\n",
    "\n",
    "yahoo_div_check.reset_index(inplace=True,drop=False)\n",
    "yahoo_div_check = yahoo_div_check.rename(columns={'index':'Date'})\n",
    "\n",
    "yahoo_split_check.reset_index(inplace=True,drop=False)\n",
    "yahoo_split_check = yahoo_split_check.rename(columns={'index':'Date'})\n",
    "\n",
    "yahoo_other_check.reset_index(inplace=True,drop=False)\n",
    "yahoo_other_check = yahoo_other_check.rename(columns={'index':'Date'})\n",
    "\n",
    "print(yahoo_div_check)\n",
    "print(yahoo_split_check)\n",
    "print(yahoo_other_check)"
   ]
  },
  {
   "cell_type": "markdown",
   "metadata": {},
   "source": [
    "<b>so got rid of splits ... only dividends ... now graph to check<b>"
   ]
  },
  {
   "cell_type": "code",
   "execution_count": null,
   "metadata": {},
   "outputs": [],
   "source": [
    "plt.scatter(yahoo_div_check['Date'], yahoo_div_check['value'], color = 'red')\n",
    "plt.title('Test Yahoo Dividends over time')\n",
    "plt.xlabel('Date')\n",
    "plt.ylabel('Dividend Amount')\n",
    "plt.show()"
   ]
  },
  {
   "cell_type": "markdown",
   "metadata": {},
   "source": [
    "This graph makes it easy to see whether a stock has a regular dividend payout and periodic increases.  \n",
    "\n",
    "Drops in dividend payout (see ATD-B.TO) could be caused by stock splits.   Need to check for splits and adjust.\n",
    "\n",
    "Now lets create a data frame with all the dividend yield values based on div and closing price by day."
   ]
  },
  {
   "cell_type": "code",
   "execution_count": null,
   "metadata": {},
   "outputs": [],
   "source": [
    "div_yield_frame = yahoo_price_check.copy()\n",
    "#div_yield_frame = yahoo_price_check.loc[:,'Close']\n",
    "\n",
    "\n",
    "div_yield_frame = div_yield_frame.drop('High', axis=1)\n",
    "div_yield_frame = div_yield_frame.drop('Low', axis=1)\n",
    "div_yield_frame = div_yield_frame.drop('Open', axis=1)\n",
    "div_yield_frame = div_yield_frame.drop('Volume', axis=1)\n",
    "div_yield_frame = div_yield_frame.drop('Adj Close', axis=1)\n",
    "#div_yield_frame = div_yield_frame.drop('index', axis=1)\n",
    "\n",
    "\n",
    "\n",
    "print(div_yield_frame)"
   ]
  },
  {
   "cell_type": "markdown",
   "metadata": {},
   "source": [
    "So the merge does a join on date but only keeps results that match.  Need to populate all price closes rows with a dividend yield.  Try a different function.  Something that gives me an outer join (or right join)\n",
    "\n",
    "currently fixed: auto filled non-div days with NaN.  \n",
    "\n",
    "Next need to populate all the NaN spots with previous dividend value by date and calculate yield based on price each day. \n",
    "\n",
    "Alright now add a column for the yield for each day based on calculation . Dividend/price * 100"
   ]
  },
  {
   "cell_type": "code",
   "execution_count": null,
   "metadata": {
    "scrolled": false
   },
   "outputs": [],
   "source": [
    "#print(div_yield_frame)\n",
    "#print(yahoo_div_check)\n",
    "new_div_yield = pd.merge(div_yield_frame, yahoo_div_check, on=\"Date\", how=\"left\")\n",
    "new_div_yield = new_div_yield.drop('action', axis=1)\n",
    "\n",
    "# front fill and calculate yield for each day\n",
    "# not sure if I need the backfill call to complete the dataframe or not\n",
    "new_div_yield.fillna(method='ffill', inplace=True)\n",
    "new_div_yield.fillna(method='bfill', inplace=True)\n",
    "print(new_div_yield)\n",
    "new_div_yield['div_yield'] = (4*new_div_yield['value'])/new_div_yield['Close'] *100\n",
    "print(new_div_yield)\n",
    "\n",
    "# plot dividend yield over time\n",
    "plt.plot(new_div_yield['Date'], new_div_yield['div_yield'], color = 'red')\n",
    "plt.title('Test Yahoo Dividends over time')\n",
    "plt.xlabel('Date')\n",
    "plt.ylabel('Dividend Yield')\n",
    "plt.show()\n",
    "\n",
    "# plot price over time \n",
    "plt.plot(new_div_yield['Date'], new_div_yield['Close'], color = 'green')\n",
    "plt.title('Test Yahoo Dividends over time')\n",
    "plt.xlabel('Date')\n",
    "plt.ylabel('Price')\n",
    "plt.show()"
   ]
  },
  {
   "cell_type": "markdown",
   "metadata": {},
   "source": [
    " ok great ... but the assumption here is that dividends are paid quarterly.  Need to calculate dividend frequency.  Maybe there is a way to get it.  if not, calculate it.  \n",
    " \n",
    "<b>To do:</b> find a way to automatically calculate dividend payout frequency.  \n",
    "\n",
    "   <i>Initial idea:</i>  for each dividend payment calculate delta between last and current div date and add to dividend yield DF.  This becomes a multiplier used to calculate div yield.  This should account for varying div payout frequencies across stocks <b>(test cases: T.TO, SJR-B.TO, XQQ)</b> as well as changes in payout frequency for individual stocks <b>(test case: Corus CJR-B)</b> \n",
    "\n",
    "hmm... so the closing price is adjusted for splits but the dividends are not.  Will need to account for dividend values that change as a result of splits.  To see this, change ticker to <b>(test case: \"ATD-B.TO\")</b>. \n",
    "\n",
    "<b>To do:</b> find a way to account for splits. \n",
    "\n",
    "<i>Initial idea:</i> So i think i can normalize by retroactively multiplying the dividend value by the split (eg  new_div = old_div * SPLIT) for each SPLIT record.  This would work for ATB-B.  will try later.  \n",
    "\n",
    "<b>FALSE - need to adjust manually</b> Alternatively, sourcing dividend payouts from dividendhistory.org, the amounts are already adjusted but i have noticed some inconsistencies.  Going to try and account for splits.  "
   ]
  },
  {
   "cell_type": "code",
   "execution_count": null,
   "metadata": {},
   "outputs": [],
   "source": [
    "for index, row in yahoo_split_check.iterrows():\n",
    "    if not yahoo_split_check.empty:\n",
    "        #print(row['Date'])\n",
    "        test_div = new_div_yield.loc[new_div_yield['Date'] == row['Date']]\n",
    "        print(test_div)\n",
    "        print(row['value'])\n",
    "        for index_2, row_2 in new_div_yield.iterrows():\n",
    "            if row_2['Date']<=row['Date']:\n",
    "                new_div_yield['value'] = new_div_yield['value']*row['value']\n",
    "                #print(\"Old Div: {0}    New Div: {1}   Date: {2}  \".format(row_2['value'], row_2['Date']))\n",
    "            #else:\n",
    "                #print(\"no correction\")\n",
    "                \n",
    "    else:\n",
    "        print(\"No splits detected\")\n",
    "        \n"
   ]
  },
  {
   "cell_type": "code",
   "execution_count": null,
   "metadata": {},
   "outputs": [],
   "source": []
  },
  {
   "cell_type": "markdown",
   "metadata": {},
   "source": [
    "Once data is all adjusted and cleaned up - peak/trough finding/generation"
   ]
  }
 ],
 "metadata": {
  "kernelspec": {
   "display_name": "Python 3",
   "language": "python",
   "name": "python3"
  },
  "language_info": {
   "codemirror_mode": {
    "name": "ipython",
    "version": 3
   },
   "file_extension": ".py",
   "mimetype": "text/x-python",
   "name": "python",
   "nbconvert_exporter": "python",
   "pygments_lexer": "ipython3",
   "version": "3.7.4"
  }
 },
 "nbformat": 4,
 "nbformat_minor": 2
}
