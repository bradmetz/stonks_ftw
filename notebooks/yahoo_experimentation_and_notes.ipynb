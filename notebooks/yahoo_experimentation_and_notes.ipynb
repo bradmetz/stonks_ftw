{
 "cells": [
  {
   "cell_type": "markdown",
   "metadata": {},
   "source": [
    "<h1>Testing out Jupyter and yahoo finance API with pandas</h1>\n",
    "\n",
    "Using yahoo finance as a data source to start via yfinance.  Since the yahoo finance API is no longer being supported, yfinance offers an alternative based on scraping the yahoo finance website.  \n",
    "\n",
    "To run a symbol through all code below, simply change variable <b>ticker</b> below and run all code. \n"
   ]
  },
  {
   "cell_type": "code",
   "execution_count": null,
   "metadata": {},
   "outputs": [],
   "source": [
    "## this code is an example of how yfinance can be used with pandas.  it overrides the pandasdatareader\n",
    "## functionality that makes use of the deprecated yahoo api\n",
    "## ideally i would like to just use yfinance without the override to reduce deps and complexity\n",
    "## but will see how it goes.\n",
    "\n",
    "import pandas as pd\n",
    "import pandas_datareader.data as pdr\n",
    "import yfinance as yf\n",
    "\n",
    "yf.pdr_override()\n",
    "# global test parameters for workflow\n",
    "ticker = 'ATD-B.TO'\n",
    "start_date = '2010-01-01'\n",
    "end_date = '2020-01-20'\n",
    "\n",
    "yahoo_price_check = pdr.DataReader(ticker,  start=start_date, end=end_date, data_source='yahoo')\n",
    "yahoo_price_check.reset_index(inplace=True,drop=False)\n",
    "print(yahoo_price_check)\n"
   ]
  },
  {
   "cell_type": "markdown",
   "metadata": {},
   "source": [
    "    Alright so that is working ok.  Now lets get some dividend.  May need to try out adj close to account for splits\n",
    "    \n",
    "    so the date is used as index but cannot be referenced for joining later.  I reset the index to generic integer based index.  Doing thing on the price dataframe gives a regular Date column but for some reason, the same conversion leaves date labelled 'index' for yahoo-actions.  Quick relabel after reindexing should make this joinable. "
   ]
  },
  {
   "cell_type": "code",
   "execution_count": null,
   "metadata": {},
   "outputs": [],
   "source": [
    "yf.pdr_override()\n",
    "\n",
    "yahoo_div_check = pdr.DataReader(ticker, start=start_date, end=end_date, data_source='yahoo-actions')\n",
    "yahoo_div_check.reset_index(inplace=True,drop=False)\n",
    "yahoo_div_check = yahoo_div_check.rename(columns={'index':'Date'})\n",
    "print(yahoo_div_check)"
   ]
  },
  {
   "cell_type": "markdown",
   "metadata": {},
   "source": [
    "OK so the yahoo-actions override is not working ... no worries.  yfinance refactor may be the better option.  \n",
    "Test sections below."
   ]
  },
  {
   "cell_type": "code",
   "execution_count": null,
   "metadata": {},
   "outputs": [],
   "source": [
    "import yfinance as yf\n",
    "print(yf.__version__)"
   ]
  },
  {
   "cell_type": "code",
   "execution_count": 11,
   "metadata": {},
   "outputs": [
    {
     "name": "stdout",
     "output_type": "stream",
     "text": [
      "                                    2019-12-31    2018-12-31    2017-12-31  \\\n",
      "Intangible Assets                 1.335200e+10  1.320500e+10  1.325800e+10   \n",
      "Capital Surplus                   1.178000e+09  1.170000e+09  1.162000e+09   \n",
      "Total Liab                        3.873800e+10  3.641100e+10  3.517700e+10   \n",
      "Total Stockholder Equity          1.707000e+10  1.635900e+10  1.629800e+10   \n",
      "Minority Interest                 3.340000e+08  3.260000e+08  3.230000e+08   \n",
      "Deferred Long Term Liab           3.680000e+08  3.370000e+08  2.860000e+08   \n",
      "Other Current Liab                2.340000e+09  2.272000e+09  2.199000e+09   \n",
      "Total Assets                      6.014600e+10  5.710000e+10  5.580200e+10   \n",
      "Common Stock                      2.036300e+10  2.003600e+10  2.009100e+10   \n",
      "Other Current Assets              6.050000e+08  6.990000e+08  4.720000e+08   \n",
      "Retained Earnings                -4.632000e+09 -4.937000e+09 -4.938000e+09   \n",
      "Other Liab                        6.546000e+09  6.222000e+09  6.230000e+09   \n",
      "Good Will                         1.066700e+10  1.065800e+10  1.042800e+10   \n",
      "Treasury Stock                    1.610000e+08  9.000000e+07 -1.700000e+07   \n",
      "Other Assets                      2.144000e+09  1.692000e+09  1.515000e+09   \n",
      "Cash                              1.450000e+08  4.250000e+08  6.250000e+08   \n",
      "Total Current Liabilities         9.777000e+09  1.042900e+10  1.073200e+10   \n",
      "Deferred Long Term Asset Charges  9.800000e+07  1.120000e+08  1.440000e+08   \n",
      "Short Long Term Debt              6.200000e+07  5.900000e+07  6.610000e+08   \n",
      "Other Stockholder Equity          1.610000e+08  9.000000e+07 -1.700000e+07   \n",
      "Property Plant Equipment          2.763600e+10  2.484400e+10  2.402900e+10   \n",
      "Total Current Assets              5.520000e+09  5.793000e+09  5.655000e+09   \n",
      "Long Term Investments             8.270000e+08  9.080000e+08  9.170000e+08   \n",
      "Net Tangible Assets              -6.949000e+09 -7.504000e+09 -7.388000e+09   \n",
      "Net Receivables                   4.149000e+09  3.993000e+09  3.961000e+09   \n",
      "Long Term Debt                    1.859100e+10  1.812900e+10  1.648800e+10   \n",
      "Inventory                         4.270000e+08  4.320000e+08  3.800000e+08   \n",
      "Accounts Payable                  2.604000e+09  2.535000e+09  2.448000e+09   \n",
      "\n",
      "                                    2016-12-31  \n",
      "Intangible Assets                 1.199800e+10  \n",
      "Capital Surplus                   1.160000e+09  \n",
      "Total Liab                        3.225400e+10  \n",
      "Total Stockholder Equity          1.353600e+10  \n",
      "Minority Interest                 3.140000e+08  \n",
      "Deferred Long Term Liab                    NaN  \n",
      "Other Current Liab                2.048000e+09  \n",
      "Total Assets                      5.010800e+10  \n",
      "Common Stock                      1.837000e+10  \n",
      "Other Current Assets              2.000000e+08  \n",
      "Retained Earnings                -6.040000e+09  \n",
      "Other Liab                        5.574000e+09  \n",
      "Good Will                         8.958000e+09  \n",
      "Treasury Stock                    4.600000e+07  \n",
      "Other Assets                      9.960000e+08  \n",
      "Cash                              8.530000e+08  \n",
      "Total Current Liabilities         1.010800e+10  \n",
      "Deferred Long Term Asset Charges  8.900000e+07  \n",
      "Short Long Term Debt              8.720000e+08  \n",
      "Other Stockholder Equity          4.600000e+07  \n",
      "Property Plant Equipment          2.234600e+10  \n",
      "Total Current Assets              4.855000e+09  \n",
      "Long Term Investments             9.550000e+08  \n",
      "Net Tangible Assets              -7.420000e+09  \n",
      "Net Receivables                   2.979000e+09  \n",
      "Long Term Debt                    1.474700e+10  \n",
      "Inventory                         4.030000e+08  \n",
      "Accounts Payable                  2.319000e+09  \n"
     ]
    }
   ],
   "source": [
    "# what does financials, balance sheet, and cashflow return\n",
    "# alright so there was a bug in the yfiannce library (v. 0.1.54)\n",
    "# I found a fix for now until a patch is pushed to master on this.\n",
    "# waiting on this PR for permanent fix : https://github.com/ranaroussi/yfinance/pull/246\n",
    "# implemented fix from issue here: https://github.com/ranaroussi/yfinance/issues/234\n",
    "\n",
    "import yfinance as yf\n",
    "ticker = yf.Ticker(\"BCE.TO\")\n",
    "\n",
    "fins = ticker.balance_sheet\n",
    "#fins = ticker.earnings\n",
    "#fins = yf.__file__\n",
    "\n",
    "print(fins)"
   ]
  },
  {
   "cell_type": "code",
   "execution_count": null,
   "metadata": {},
   "outputs": [],
   "source": [
    "## heres the list of all the various functions to pull back different data fields for each ticker\n",
    "## explore these individually to see how i want to piece them together\n",
    "\n",
    "import yfinance as yf\n",
    "\n",
    "msft = yf.Ticker(\"MSFT\")\n",
    "\n",
    "# get stock info\n",
    "print(msft.info)\n",
    "\n",
    "# get historical market data\n",
    "hist = msft.history(period=\"max\")\n",
    "\n",
    "# show actions (dividends, splits)\n",
    "msft.actions\n",
    "\n",
    "# show dividends\n",
    "msft.dividends\n",
    "\n",
    "# show splits\n",
    "msft.splits\n",
    "\n",
    "# show financials\n",
    "msft.financials\n",
    "msft.quarterly_financials\n",
    "\n",
    "# show major holders\n",
    "msft.major_holders\n",
    "\n",
    "# show institutional holders\n",
    "msft.institutional_holders\n",
    "\n",
    "# show balance heet\n",
    "msft.balance_sheet\n",
    "msft.quarterly_balance_sheet\n",
    "\n",
    "# show cashflow\n",
    "msft.cashflow\n",
    "msft.quarterly_cashflow\n",
    "\n",
    "# show earnings\n",
    "msft.earnings\n",
    "msft.quarterly_earnings\n",
    "\n",
    "# show sustainability\n",
    "msft.sustainability\n",
    "\n",
    "# show analysts recommendations\n",
    "msft.recommendations\n",
    "\n",
    "# show next event (earnings, etc)\n",
    "msft.calendar\n",
    "\n",
    "# show ISIN code - *experimental*\n",
    "# ISIN = International Securities Identification Number\n",
    "#msft.isin\n",
    "\n",
    "# show options expirations\n",
    "#msft.options\n",
    "\n",
    "# get option chain for specific expiration\n",
    "#opt = msft.option_chain('YYYY-MM-DD')\n",
    "# data available via: opt.calls, opt.puts"
   ]
  },
  {
   "cell_type": "markdown",
   "metadata": {},
   "source": [
    "So looking at data types returned by yfinance calls:\n",
    "\n",
    "The Ticker object returned contains a ton of information in various formats (dicts, dataframes, etc) and provides all the access methods to pull back more.  \n",
    "\n",
    "history function returns Date, open, high, low, volume, divs, and splits.  I will keep all of the fields as they may come in useful in the future.  Returned as a Pandas dataframe. "
   ]
  },
  {
   "cell_type": "code",
   "execution_count": null,
   "metadata": {},
   "outputs": [],
   "source": [
    "import yfinance as yf\n",
    "import pandas as pd\n",
    "\n",
    "msft = yf.Ticker(\"CTC-A.TO\")\n",
    "\n",
    "# get stock info : returns a dict with all general inforation about the company.  \n",
    "msft.info\n",
    "\n",
    "hist = msft.history(period=\"max\")\n",
    "print(hist)"
   ]
  },
  {
   "cell_type": "markdown",
   "metadata": {},
   "source": [
    "<b> Playing with Graphing Data from Yahoo Finance </b>"
   ]
  },
  {
   "cell_type": "code",
   "execution_count": null,
   "metadata": {},
   "outputs": [],
   "source": [
    "import matplotlib.pyplot as plt\n",
    "from pandas.plotting import register_matplotlib_converters\n",
    "register_matplotlib_converters()\n",
    "\n",
    "plt.scatter(yahoo_div_check['Date'], yahoo_div_check['value'], color = 'red')\n",
    "plt.title('Test Yahoo Dividends over time')\n",
    "plt.xlabel('Date')\n",
    "plt.ylabel('Dividend Amount')\n",
    "plt.show()"
   ]
  },
  {
   "cell_type": "code",
   "execution_count": null,
   "metadata": {},
   "outputs": [],
   "source": [
    "#yahoo_div_check = pdr.DataReader(ticker, start='2004-01-01', end='2019-12-30', data_source='yahoo-actions')\n",
    "print(yahoo_div_check)"
   ]
  },
  {
   "cell_type": "markdown",
   "metadata": {},
   "source": [
    "Show all non-DIVIDEND actions. "
   ]
  },
  {
   "cell_type": "code",
   "execution_count": null,
   "metadata": {},
   "outputs": [],
   "source": [
    "yahoo_div_check = pdr.DataReader(ticker, start=start_date, end=end_date, data_source='yahoo-actions')\n",
    "yahoo_div_check = yahoo_div_check[yahoo_div_check.action != \"DIVIDEND\"]\n",
    "yahoo_div_check.reset_index(inplace=True,drop=False)\n",
    "yahoo_div_check = yahoo_div_check.rename(columns={'index':'Date'})\n",
    "print(yahoo_div_check)"
   ]
  },
  {
   "cell_type": "markdown",
   "metadata": {},
   "source": [
    "So the outlier was a stock split not a dividend.  Should remove those.  Also whats happening pre-2002?"
   ]
  },
  {
   "cell_type": "code",
   "execution_count": null,
   "metadata": {},
   "outputs": [],
   "source": [
    "yahoo_action_check = pdr.DataReader(ticker, start=start_date, end=end_date, data_source='yahoo-actions')\n",
    "yahoo_div_check = yahoo_action_check[yahoo_action_check.action == \"DIVIDEND\"]\n",
    "yahoo_split_check = yahoo_action_check[yahoo_action_check.action == \"SPLIT\"]\n",
    "yahoo_other_check = yahoo_action_check[yahoo_action_check.action != \"DIVIDEND\"]\n",
    "\n",
    "yahoo_div_check.reset_index(inplace=True,drop=False)\n",
    "yahoo_div_check = yahoo_div_check.rename(columns={'index':'Date'})\n",
    "\n",
    "yahoo_split_check.reset_index(inplace=True,drop=False)\n",
    "yahoo_split_check = yahoo_split_check.rename(columns={'index':'Date'})\n",
    "\n",
    "yahoo_other_check.reset_index(inplace=True,drop=False)\n",
    "yahoo_other_check = yahoo_other_check.rename(columns={'index':'Date'})\n",
    "\n",
    "print(yahoo_div_check)\n",
    "print(yahoo_split_check)\n",
    "print(yahoo_other_check)"
   ]
  },
  {
   "cell_type": "markdown",
   "metadata": {},
   "source": [
    "<b>so got rid of splits ... only dividends ... now graph to check<b>"
   ]
  },
  {
   "cell_type": "code",
   "execution_count": null,
   "metadata": {},
   "outputs": [],
   "source": [
    "plt.scatter(yahoo_div_check['Date'], yahoo_div_check['value'], color = 'red')\n",
    "plt.title('Test Yahoo Dividends over time')\n",
    "plt.xlabel('Date')\n",
    "plt.ylabel('Dividend Amount')\n",
    "plt.show()"
   ]
  },
  {
   "cell_type": "markdown",
   "metadata": {},
   "source": [
    "This graph makes it easy to see whether a stock has a regular dividend payout and periodic increases.  \n",
    "\n",
    "Drops in dividend payout (see ATD-B.TO) could be caused by stock splits.   Need to check for splits and adjust.\n",
    "\n",
    "Now lets create a data frame with all the dividend yield values based on div and closing price by day."
   ]
  },
  {
   "cell_type": "code",
   "execution_count": null,
   "metadata": {},
   "outputs": [],
   "source": [
    "div_yield_frame = yahoo_price_check.copy()\n",
    "#div_yield_frame = yahoo_price_check.loc[:,'Close']\n",
    "\n",
    "\n",
    "div_yield_frame = div_yield_frame.drop('High', axis=1)\n",
    "div_yield_frame = div_yield_frame.drop('Low', axis=1)\n",
    "div_yield_frame = div_yield_frame.drop('Open', axis=1)\n",
    "div_yield_frame = div_yield_frame.drop('Volume', axis=1)\n",
    "div_yield_frame = div_yield_frame.drop('Adj Close', axis=1)\n",
    "#div_yield_frame = div_yield_frame.drop('index', axis=1)\n",
    "\n",
    "\n",
    "\n",
    "print(div_yield_frame)"
   ]
  },
  {
   "cell_type": "markdown",
   "metadata": {},
   "source": [
    "So the merge does a join on date but only keeps results that match.  Need to populate all price closes rows with a dividend yield.  Try a different function.  Something that gives me an outer join (or right join)\n",
    "\n",
    "currently fixed: auto filled non-div days with NaN.  \n",
    "\n",
    "Next need to populate all the NaN spots with previous dividend value by date and calculate yield based on price each day. \n",
    "\n",
    "Alright now add a column for the yield for each day based on calculation . Dividend/price * 100"
   ]
  },
  {
   "cell_type": "code",
   "execution_count": null,
   "metadata": {
    "scrolled": false
   },
   "outputs": [],
   "source": [
    "#print(div_yield_frame)\n",
    "#print(yahoo_div_check)\n",
    "new_div_yield = pd.merge(div_yield_frame, yahoo_div_check, on=\"Date\", how=\"left\")\n",
    "new_div_yield = new_div_yield.drop('action', axis=1)\n",
    "\n",
    "# front fill and calculate yield for each day\n",
    "# not sure if I need the backfill call to complete the dataframe or not\n",
    "new_div_yield.fillna(method='ffill', inplace=True)\n",
    "new_div_yield.fillna(method='bfill', inplace=True)\n",
    "print(new_div_yield)\n",
    "new_div_yield['div_yield'] = (4*new_div_yield['value'])/new_div_yield['Close'] *100\n",
    "print(new_div_yield)\n",
    "\n",
    "# plot dividend yield over time\n",
    "plt.plot(new_div_yield['Date'], new_div_yield['div_yield'], color = 'red')\n",
    "plt.title('Test Yahoo Dividends over time')\n",
    "plt.xlabel('Date')\n",
    "plt.ylabel('Dividend Yield')\n",
    "plt.show()\n",
    "\n",
    "# plot price over time \n",
    "plt.plot(new_div_yield['Date'], new_div_yield['Close'], color = 'green')\n",
    "plt.title('Test Yahoo Dividends over time')\n",
    "plt.xlabel('Date')\n",
    "plt.ylabel('Price')\n",
    "plt.show()"
   ]
  },
  {
   "cell_type": "markdown",
   "metadata": {},
   "source": [
    " ok great ... but the assumption here is that dividends are paid quarterly.  Need to calculate dividend frequency.  Maybe there is a way to get it.  if not, calculate it.  \n",
    " \n",
    "<b>To do:</b> find a way to automatically calculate dividend payout frequency.  \n",
    "\n",
    "   <i>Initial idea:</i>  for each dividend payment calculate delta between last and current div date and add to dividend yield DF.  This becomes a multiplier used to calculate div yield.  This should account for varying div payout frequencies across stocks <b>(test cases: T.TO, SJR-B.TO, XQQ)</b> as well as changes in payout frequency for individual stocks <b>(test case: Corus CJR-B)</b> \n",
    "\n",
    "hmm... so the closing price is adjusted for splits but the dividends are not.  Will need to account for dividend values that change as a result of splits.  To see this, change ticker to <b>(test case: \"ATD-B.TO\")</b>. \n",
    "\n",
    "<b>To do:</b> find a way to account for splits. \n",
    "\n",
    "<i>Initial idea:</i> So i think i can normalize by retroactively multiplying the dividend value by the split (eg  new_div = old_div * SPLIT) for each SPLIT record.  This would work for ATB-B.  will try later.  \n",
    "\n",
    "<b>FALSE - need to adjust manually</b> Alternatively, sourcing dividend payouts from dividendhistory.org, the amounts are already adjusted but i have noticed some inconsistencies.  Going to try and account for splits.  "
   ]
  },
  {
   "cell_type": "code",
   "execution_count": null,
   "metadata": {},
   "outputs": [],
   "source": [
    "for index, row in yahoo_split_check.iterrows():\n",
    "    if not yahoo_split_check.empty:\n",
    "        #print(row['Date'])\n",
    "        test_div = new_div_yield.loc[new_div_yield['Date'] == row['Date']]\n",
    "        print(test_div)\n",
    "        print(row['value'])\n",
    "        for index_2, row_2 in new_div_yield.iterrows():\n",
    "            if row_2['Date']<=row['Date']:\n",
    "                new_div_yield['value'] = new_div_yield['value']*row['value']\n",
    "                #print(\"Old Div: {0}    New Div: {1}   Date: {2}  \".format(row_2['value'], row_2['Date']))\n",
    "            #else:\n",
    "                #print(\"no correction\")\n",
    "                \n",
    "    else:\n",
    "        print(\"No splits detected\")\n",
    "        \n"
   ]
  },
  {
   "cell_type": "code",
   "execution_count": null,
   "metadata": {},
   "outputs": [],
   "source": []
  },
  {
   "cell_type": "markdown",
   "metadata": {},
   "source": [
    "Once data is all adjusted and cleaned up - peak/trough finding/generation"
   ]
  }
 ],
 "metadata": {
  "kernelspec": {
   "display_name": "Python 3",
   "language": "python",
   "name": "python3"
  },
  "language_info": {
   "codemirror_mode": {
    "name": "ipython",
    "version": 3
   },
   "file_extension": ".py",
   "mimetype": "text/x-python",
   "name": "python",
   "nbconvert_exporter": "python",
   "pygments_lexer": "ipython3",
   "version": "3.7.4"
  }
 },
 "nbformat": 4,
 "nbformat_minor": 2
}
