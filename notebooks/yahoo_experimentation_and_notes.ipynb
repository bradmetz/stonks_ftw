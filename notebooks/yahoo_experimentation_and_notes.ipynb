{
 "cells": [
  {
   "cell_type": "markdown",
   "metadata": {},
   "source": [
    "<h1>Testing out Jupyter and yahoo finance API with pandas</h1>\n",
    "\n",
    "Using yahoo finance as a data source to start via yfinance.  Since the yahoo finance API is no longer being supported, yfinance offers an alternative based on scraping the yahoo finance website.  \n",
    "\n",
    "To run a symbol through all code below, simply change variable <b>ticker</b> below and run all code. \n"
   ]
  },
  {
   "cell_type": "code",
   "execution_count": 1,
   "metadata": {},
   "outputs": [
    {
     "name": "stderr",
     "output_type": "stream",
     "text": [
      "/home/brad/anaconda3/lib/python3.7/site-packages/pandas_datareader/compat/__init__.py:7: FutureWarning: pandas.util.testing is deprecated. Use the functions in the public API at pandas.testing instead.\n",
      "  from pandas.util.testing import assert_frame_equal\n"
     ]
    },
    {
     "name": "stdout",
     "output_type": "stream",
     "text": [
      "[*********************100%***********************]  1 of 1 completed\n",
      "           Date       Open       High        Low      Close  Adj Close  \\\n",
      "0    2010-01-04   3.470000   3.480000   3.376670   3.386670   2.668177   \n",
      "1    2010-01-05   3.401670   3.415000   3.333330   3.370000   2.655044   \n",
      "2    2010-01-06   3.368330   3.381670   3.343330   3.358330   2.645849   \n",
      "3    2010-01-07   3.340000   3.441670   3.335000   3.415000   2.690497   \n",
      "4    2010-01-08   3.405000   3.415000   3.356670   3.370000   2.655044   \n",
      "...         ...        ...        ...        ...        ...        ...   \n",
      "2515 2020-01-13  43.299999  43.349998  42.750000  43.049999  42.961887   \n",
      "2516 2020-01-14  42.959999  43.860001  42.799999  43.790001  43.700375   \n",
      "2517 2020-01-15  43.759998  44.049999  43.119999  43.959999  43.870022   \n",
      "2518 2020-01-16  44.049999  44.299999  43.790001  44.250000  44.159431   \n",
      "2519 2020-01-17  44.290001  44.590000  43.980000  44.430000  44.339062   \n",
      "\n",
      "       Volume  \n",
      "0      800418  \n",
      "1      765234  \n",
      "2     1322112  \n",
      "3     2813490  \n",
      "4     2079372  \n",
      "...       ...  \n",
      "2515  1032391  \n",
      "2516  1432525  \n",
      "2517  1106334  \n",
      "2518   953691  \n",
      "2519   829575  \n",
      "\n",
      "[2520 rows x 7 columns]\n"
     ]
    }
   ],
   "source": [
    "## this code is an example of how yfinance can be used with pandas.  it overrides the pandasdatareader\n",
    "## functionality that makes use of the deprecated yahoo api\n",
    "## ideally i would like to just use yfinance without the override to reduce deps and complexity\n",
    "## but will see how it goes.\n",
    "\n",
    "import pandas as pd\n",
    "import pandas_datareader.data as pdr\n",
    "import yfinance as yf\n",
    "\n",
    "yf.pdr_override()\n",
    "# global test parameters for workflow\n",
    "ticker = 'ATD-B.TO'\n",
    "start_date = '2010-01-01'\n",
    "end_date = '2020-01-20'\n",
    "\n",
    "yahoo_price_check = pdr.DataReader(ticker,  start=start_date, end=end_date, data_source='yahoo')\n",
    "yahoo_price_check.reset_index(inplace=True,drop=False)\n",
    "print(yahoo_price_check)\n"
   ]
  },
  {
   "cell_type": "markdown",
   "metadata": {},
   "source": [
    "    Alright so that is working ok.  Now lets get some dividend.  May need to try out adj close to account for splits\n",
    "    \n",
    "    so the date is used as index but cannot be referenced for joining later.  I reset the index to generic integer based index.  Doing thing on the price dataframe gives a regular Date column but for some reason, the same conversion leaves date labelled 'index' for yahoo-actions.  Quick relabel after reindexing should make this joinable. "
   ]
  },
  {
   "cell_type": "code",
   "execution_count": 3,
   "metadata": {},
   "outputs": [
    {
     "name": "stdout",
     "output_type": "stream",
     "text": [
      "[*********************100%***********************]  1 of 1 completed\n",
      "           Date       Open       High        Low      Close  Adj Close  \\\n",
      "0    2010-01-04   3.470000   3.480000   3.376670   3.386670   2.668177   \n",
      "1    2010-01-05   3.401670   3.415000   3.333330   3.370000   2.655044   \n",
      "2    2010-01-06   3.368330   3.381670   3.343330   3.358330   2.645849   \n",
      "3    2010-01-07   3.340000   3.441670   3.335000   3.415000   2.690497   \n",
      "4    2010-01-08   3.405000   3.415000   3.356670   3.370000   2.655044   \n",
      "...         ...        ...        ...        ...        ...        ...   \n",
      "2515 2020-01-13  43.299999  43.349998  42.750000  43.049999  42.961887   \n",
      "2516 2020-01-14  42.959999  43.860001  42.799999  43.790001  43.700375   \n",
      "2517 2020-01-15  43.759998  44.049999  43.119999  43.959999  43.870022   \n",
      "2518 2020-01-16  44.049999  44.299999  43.790001  44.250000  44.159431   \n",
      "2519 2020-01-17  44.290001  44.590000  43.980000  44.430000  44.339062   \n",
      "\n",
      "       Volume  \n",
      "0      800418  \n",
      "1      765234  \n",
      "2     1322112  \n",
      "3     2813490  \n",
      "4     2079372  \n",
      "...       ...  \n",
      "2515  1032391  \n",
      "2516  1432525  \n",
      "2517  1106334  \n",
      "2518   953691  \n",
      "2519   829575  \n",
      "\n",
      "[2520 rows x 7 columns]\n"
     ]
    }
   ],
   "source": [
    "yf.pdr_override()\n",
    "\n",
    "yahoo_div_check = pdr.DataReader(ticker, start=start_date, end=end_date, data_source='yahoo-actions')\n",
    "yahoo_div_check.reset_index(inplace=True,drop=False)\n",
    "yahoo_div_check = yahoo_div_check.rename(columns={'index':'Date'})\n",
    "print(yahoo_div_check)"
   ]
  },
  {
   "cell_type": "markdown",
   "metadata": {},
   "source": [
    "OK so the yahoo-actions override is not working ... no worries.  yfinance refactor may be the better option.  \n",
    "Test sections below."
   ]
  },
  {
   "cell_type": "code",
   "execution_count": 1,
   "metadata": {},
   "outputs": [
    {
     "name": "stdout",
     "output_type": "stream",
     "text": [
      "{'zip': '98052', 'sector': 'Technology', 'fullTimeEmployees': 144000, 'longBusinessSummary': \"Microsoft Corporation develops, licenses, and supports software, services, devices, and solutions worldwide. The company's Productivity and Business Processes segment offers Office, Exchange, SharePoint, Microsoft Teams, Office 365 Security and Compliance, and Skype for Business, as well as related Client Access Licenses (CAL); and Skype, Outlook.com, and OneDrive. It also provides LinkedIn that includes Talent and marketing solutions, and subscriptions; and Dynamics 365, a set of cloud-based and on-premises business solutions for small and medium businesses, large organizations, and divisions of enterprises. The company's Intelligent Cloud segment licenses SQL and Windows Servers, Visual Studio, System Center, and related CALs; GitHub that provides a collaboration platform and code hosting service for developers; and Azure, a cloud platform. It also provides support services and Microsoft consulting services to assist customers in developing, deploying, and managing Microsoft server and desktop solutions; and training and certification to developers and IT professionals on various Microsoft products. The company's More Personal Computing segment offers Windows OEM licensing and other non-volume licensing of the Windows operating system; Windows Commercial comprising volume licensing of the Windows operating system, Windows cloud services, and other Windows commercial offerings; patent licensing; Windows Internet of Things; and MSN advertising. It also provides Microsoft Surface, PC accessories, and other intelligent devices; Gaming, including Xbox hardware, and Xbox software and services; video games and third-party video game royalties; and Search, including Bing and Microsoft advertising. The company sells its products through distributors and resellers; and directly through digital marketplaces, online stores, and retail stores. It has strategic partnerships with Humana Inc. and Nokia. The company was founded in 1975 and is headquartered in Redmond, Washington.\", 'city': 'Redmond', 'phone': '425-882-8080', 'state': 'WA', 'country': 'United States', 'companyOfficers': [], 'website': 'http://www.microsoft.com', 'maxAge': 1, 'address1': 'One Microsoft Way', 'fax': '425-706-7329', 'industry': 'Software—Infrastructure', 'previousClose': 155.26, 'regularMarketOpen': 155.1, 'twoHundredDayAverage': 154.53781, 'trailingAnnualDividendYield': 0.01249517, 'payoutRatio': 0.32930002, 'volume24Hr': None, 'regularMarketDayHigh': 157.38, 'navPrice': None, 'averageDailyVolume10Day': 57867183, 'totalAssets': None, 'regularMarketPreviousClose': 155.26, 'fiftyDayAverage': 158.35971, 'trailingAnnualDividendRate': 1.94, 'open': 155.1, 'toCurrency': None, 'averageVolume10days': 57867183, 'expireDate': None, 'yield': None, 'algorithm': None, 'dividendRate': 2.04, 'exDividendDate': 1589932800, 'beta': 1.091844, 'circulatingSupply': None, 'startDate': None, 'regularMarketDayLow': 152.195, 'priceHint': 2, 'currency': 'USD', 'trailingPE': 26.794983, 'regularMarketVolume': 41243284, 'lastMarket': None, 'maxSupply': None, 'openInterest': None, 'marketCap': 1170038718464, 'volumeAllCurrencies': None, 'strikePrice': None, 'averageVolume': 50221044, 'priceToSalesTrailing12Months': 8.715437, 'dayLow': 152.195, 'ask': 160.2, 'ytdReturn': None, 'askSize': 1100, 'volume': 41243284, 'fiftyTwoWeekHigh': 190.7, 'forwardPE': 24.851374, 'fromCurrency': None, 'fiveYearAvgDividendYield': 1.97, 'fiftyTwoWeekLow': 118.58, 'bid': 159.58, 'tradeable': True, 'dividendYield': 0.013099999000000001, 'bidSize': 2900, 'dayHigh': 157.38, 'exchange': 'NMS', 'shortName': 'Microsoft Corporation', 'longName': 'Microsoft Corporation', 'exchangeTimezoneName': 'America/New_York', 'exchangeTimezoneShortName': 'EDT', 'isEsgPopulated': False, 'gmtOffSetMilliseconds': '-14400000', 'quoteType': 'EQUITY', 'symbol': 'MSFT', 'messageBoardId': 'finmb_21835', 'market': 'us_market', 'annualHoldingsTurnover': None, 'enterpriseToRevenue': 8.365, 'beta3Year': None, 'profitMargins': 0.33016, 'enterpriseToEbitda': 18.329, '52WeekChange': 0.2826649, 'morningStarRiskRating': None, 'forwardEps': 6.19, 'revenueQuarterlyGrowth': None, 'sharesOutstanding': 7606049792, 'fundInceptionDate': None, 'annualReportExpenseRatio': None, 'bookValue': 14.467, 'sharesShort': 55155176, 'sharesPercentSharesOut': 0.0073, 'fundFamily': None, 'lastFiscalYearEnd': 1561852800, 'heldPercentInstitutions': 0.74274004, 'netIncomeToCommon': 44323000320, 'trailingEps': 5.741, 'lastDividendValue': None, 'SandP52WeekChange': -0.14059132, 'priceToBook': 10.633165, 'heldPercentInsiders': 0.01421, 'nextFiscalYearEnd': 1625011200, 'mostRecentQuarter': 1577750400, 'shortRatio': 0.91, 'sharesShortPreviousMonthDate': 1581638400, 'floatShares': 7494998724, 'enterpriseValue': 1122954248192, 'threeYearAverageReturn': None, 'lastSplitDate': 1045526400, 'lastSplitFactor': '2:1', 'legalType': None, 'morningStarOverallRating': None, 'earningsQuarterlyGrowth': 0.383, 'dateShortInterest': 1584057600, 'pegRatio': 1.94, 'lastCapGain': None, 'shortPercentOfFloat': 0.0073, 'sharesShortPriorMonth': 56193866, 'category': None, 'fiveYearAverageReturn': None, 'regularMarketPrice': 155.1, 'logo_url': 'https://logo.clearbit.com/microsoft.com'}\n"
     ]
    },
    {
     "data": {
      "text/html": [
       "<div>\n",
       "<style scoped>\n",
       "    .dataframe tbody tr th:only-of-type {\n",
       "        vertical-align: middle;\n",
       "    }\n",
       "\n",
       "    .dataframe tbody tr th {\n",
       "        vertical-align: top;\n",
       "    }\n",
       "\n",
       "    .dataframe thead th {\n",
       "        text-align: right;\n",
       "    }\n",
       "</style>\n",
       "<table border=\"1\" class=\"dataframe\">\n",
       "  <thead>\n",
       "    <tr style=\"text-align: right;\">\n",
       "      <th></th>\n",
       "      <th>0</th>\n",
       "      <th>1</th>\n",
       "    </tr>\n",
       "  </thead>\n",
       "  <tbody>\n",
       "    <tr>\n",
       "      <th>Earnings Date</th>\n",
       "      <td>2020-04-22 00:00:00</td>\n",
       "      <td>2020-04-27 00:00:00</td>\n",
       "    </tr>\n",
       "    <tr>\n",
       "      <th>Earnings Average</th>\n",
       "      <td>1.29</td>\n",
       "      <td>1.29</td>\n",
       "    </tr>\n",
       "    <tr>\n",
       "      <th>Earnings Low</th>\n",
       "      <td>1.17</td>\n",
       "      <td>1.17</td>\n",
       "    </tr>\n",
       "    <tr>\n",
       "      <th>Earnings High</th>\n",
       "      <td>1.43</td>\n",
       "      <td>1.43</td>\n",
       "    </tr>\n",
       "    <tr>\n",
       "      <th>Revenue Average</th>\n",
       "      <td>34118500000</td>\n",
       "      <td>34118500000</td>\n",
       "    </tr>\n",
       "    <tr>\n",
       "      <th>Revenue Low</th>\n",
       "      <td>32796000000</td>\n",
       "      <td>32796000000</td>\n",
       "    </tr>\n",
       "    <tr>\n",
       "      <th>Revenue High</th>\n",
       "      <td>35111000000</td>\n",
       "      <td>35111000000</td>\n",
       "    </tr>\n",
       "  </tbody>\n",
       "</table>\n",
       "</div>"
      ],
      "text/plain": [
       "                                    0                    1\n",
       "Earnings Date     2020-04-22 00:00:00  2020-04-27 00:00:00\n",
       "Earnings Average                 1.29                 1.29\n",
       "Earnings Low                     1.17                 1.17\n",
       "Earnings High                    1.43                 1.43\n",
       "Revenue Average           34118500000          34118500000\n",
       "Revenue Low               32796000000          32796000000\n",
       "Revenue High              35111000000          35111000000"
      ]
     },
     "execution_count": 1,
     "metadata": {},
     "output_type": "execute_result"
    }
   ],
   "source": [
    "## heres the list of all the various functions to pull back different data fields for each ticker\n",
    "## explore these individually to see how i want to piece them together\n",
    "\n",
    "import yfinance as yf\n",
    "\n",
    "msft = yf.Ticker(\"MSFT\")\n",
    "\n",
    "# get stock info\n",
    "print(msft.info)\n",
    "\n",
    "# get historical market data\n",
    "hist = msft.history(period=\"max\")\n",
    "\n",
    "# show actions (dividends, splits)\n",
    "msft.actions\n",
    "\n",
    "# show dividends\n",
    "msft.dividends\n",
    "\n",
    "# show splits\n",
    "msft.splits\n",
    "\n",
    "# show financials\n",
    "msft.financials\n",
    "msft.quarterly_financials\n",
    "\n",
    "# show major holders\n",
    "msft.major_holders\n",
    "\n",
    "# show institutional holders\n",
    "msft.institutional_holders\n",
    "\n",
    "# show balance heet\n",
    "msft.balance_sheet\n",
    "msft.quarterly_balance_sheet\n",
    "\n",
    "# show cashflow\n",
    "msft.cashflow\n",
    "msft.quarterly_cashflow\n",
    "\n",
    "# show earnings\n",
    "msft.earnings\n",
    "msft.quarterly_earnings\n",
    "\n",
    "# show sustainability\n",
    "msft.sustainability\n",
    "\n",
    "# show analysts recommendations\n",
    "msft.recommendations\n",
    "\n",
    "# show next event (earnings, etc)\n",
    "msft.calendar\n",
    "\n",
    "# show ISIN code - *experimental*\n",
    "# ISIN = International Securities Identification Number\n",
    "#msft.isin\n",
    "\n",
    "# show options expirations\n",
    "#msft.options\n",
    "\n",
    "# get option chain for specific expiration\n",
    "#opt = msft.option_chain('YYYY-MM-DD')\n",
    "# data available via: opt.calls, opt.puts"
   ]
  },
  {
   "cell_type": "markdown",
   "metadata": {},
   "source": [
    "So looking at data types returned by yfinance calls:\n",
    "\n",
    "The Ticker object returned contains a ton of information in various formats (dicts, dataframes, etc) and provides all the access methods to pull back more.  \n",
    "\n",
    "history function returns Date, open, high, low, volume, divs, and splits.  I will keep all of the fields as they may come in useful in the future.  Returned as a Pandas dataframe. "
   ]
  },
  {
   "cell_type": "code",
   "execution_count": 8,
   "metadata": {},
   "outputs": [
    {
     "name": "stdout",
     "output_type": "stream",
     "text": [
      "             Open   High    Low  Close   Volume  Dividends  Stock Splits\n",
      "Date                                                                    \n",
      "1995-01-12   8.21   8.21   8.04   8.04   319500        0.0             0\n",
      "1995-01-13   8.04   8.13   7.88   8.13   114400        0.0             0\n",
      "1995-01-16   8.21   8.37   8.13   8.29   224200        0.0             0\n",
      "1995-01-17   8.29   8.37   7.97   8.13   374000        0.0             0\n",
      "1995-01-18   8.21   8.21   8.04   8.21   193900        0.0             0\n",
      "...           ...    ...    ...    ...      ...        ...           ...\n",
      "2020-03-30  86.43  87.57  84.20  85.87   543330        0.0             0\n",
      "2020-03-31  86.93  92.14  83.76  84.94  1020866        0.0             0\n",
      "2020-04-01  83.40  84.44  80.30  82.21   665976        0.0             0\n",
      "2020-04-02  82.74  85.48  82.06  82.64   657952        0.0             0\n",
      "2020-04-03  82.95  85.02  80.89  81.59   561731        0.0             0\n",
      "\n",
      "[6417 rows x 7 columns]\n"
     ]
    }
   ],
   "source": [
    "import yfinance as yf\n",
    "import pandas as pd\n",
    "\n",
    "msft = yf.Ticker(\"CTC-A.TO\")\n",
    "\n",
    "# get stock info : returns a dict with all general inforation about the company.  \n",
    "msft.info\n",
    "\n",
    "hist = msft.history(period=\"max\")\n",
    "print(hist)"
   ]
  },
  {
   "cell_type": "markdown",
   "metadata": {},
   "source": [
    "<b> Playing with Graphing Data from Yahoo Finance </b>"
   ]
  },
  {
   "cell_type": "code",
   "execution_count": 5,
   "metadata": {},
   "outputs": [
    {
     "ename": "KeyError",
     "evalue": "'value'",
     "output_type": "error",
     "traceback": [
      "\u001b[0;31m---------------------------------------------------------------------------\u001b[0m",
      "\u001b[0;31mKeyError\u001b[0m                                  Traceback (most recent call last)",
      "\u001b[0;32m~/anaconda3/lib/python3.7/site-packages/pandas/core/indexes/base.py\u001b[0m in \u001b[0;36mget_loc\u001b[0;34m(self, key, method, tolerance)\u001b[0m\n\u001b[1;32m   2896\u001b[0m             \u001b[0;32mtry\u001b[0m\u001b[0;34m:\u001b[0m\u001b[0;34m\u001b[0m\u001b[0;34m\u001b[0m\u001b[0m\n\u001b[0;32m-> 2897\u001b[0;31m                 \u001b[0;32mreturn\u001b[0m \u001b[0mself\u001b[0m\u001b[0;34m.\u001b[0m\u001b[0m_engine\u001b[0m\u001b[0;34m.\u001b[0m\u001b[0mget_loc\u001b[0m\u001b[0;34m(\u001b[0m\u001b[0mkey\u001b[0m\u001b[0;34m)\u001b[0m\u001b[0;34m\u001b[0m\u001b[0;34m\u001b[0m\u001b[0m\n\u001b[0m\u001b[1;32m   2898\u001b[0m             \u001b[0;32mexcept\u001b[0m \u001b[0mKeyError\u001b[0m\u001b[0;34m:\u001b[0m\u001b[0;34m\u001b[0m\u001b[0;34m\u001b[0m\u001b[0m\n",
      "\u001b[0;32mpandas/_libs/index.pyx\u001b[0m in \u001b[0;36mpandas._libs.index.IndexEngine.get_loc\u001b[0;34m()\u001b[0m\n",
      "\u001b[0;32mpandas/_libs/index.pyx\u001b[0m in \u001b[0;36mpandas._libs.index.IndexEngine.get_loc\u001b[0;34m()\u001b[0m\n",
      "\u001b[0;32mpandas/_libs/hashtable_class_helper.pxi\u001b[0m in \u001b[0;36mpandas._libs.hashtable.PyObjectHashTable.get_item\u001b[0;34m()\u001b[0m\n",
      "\u001b[0;32mpandas/_libs/hashtable_class_helper.pxi\u001b[0m in \u001b[0;36mpandas._libs.hashtable.PyObjectHashTable.get_item\u001b[0;34m()\u001b[0m\n",
      "\u001b[0;31mKeyError\u001b[0m: 'value'",
      "\nDuring handling of the above exception, another exception occurred:\n",
      "\u001b[0;31mKeyError\u001b[0m                                  Traceback (most recent call last)",
      "\u001b[0;32m<ipython-input-5-fead9ba9ec82>\u001b[0m in \u001b[0;36m<module>\u001b[0;34m\u001b[0m\n\u001b[1;32m      6\u001b[0m \u001b[0mregister_matplotlib_converters\u001b[0m\u001b[0;34m(\u001b[0m\u001b[0;34m)\u001b[0m\u001b[0;34m\u001b[0m\u001b[0;34m\u001b[0m\u001b[0m\n\u001b[1;32m      7\u001b[0m \u001b[0;34m\u001b[0m\u001b[0m\n\u001b[0;32m----> 8\u001b[0;31m \u001b[0mplt\u001b[0m\u001b[0;34m.\u001b[0m\u001b[0mscatter\u001b[0m\u001b[0;34m(\u001b[0m\u001b[0myahoo_div_check\u001b[0m\u001b[0;34m[\u001b[0m\u001b[0;34m'Date'\u001b[0m\u001b[0;34m]\u001b[0m\u001b[0;34m,\u001b[0m \u001b[0myahoo_div_check\u001b[0m\u001b[0;34m[\u001b[0m\u001b[0;34m'value'\u001b[0m\u001b[0;34m]\u001b[0m\u001b[0;34m,\u001b[0m \u001b[0mcolor\u001b[0m \u001b[0;34m=\u001b[0m \u001b[0;34m'red'\u001b[0m\u001b[0;34m)\u001b[0m\u001b[0;34m\u001b[0m\u001b[0;34m\u001b[0m\u001b[0m\n\u001b[0m\u001b[1;32m      9\u001b[0m \u001b[0mplt\u001b[0m\u001b[0;34m.\u001b[0m\u001b[0mtitle\u001b[0m\u001b[0;34m(\u001b[0m\u001b[0;34m'Test Yahoo Dividends over time'\u001b[0m\u001b[0;34m)\u001b[0m\u001b[0;34m\u001b[0m\u001b[0;34m\u001b[0m\u001b[0m\n\u001b[1;32m     10\u001b[0m \u001b[0mplt\u001b[0m\u001b[0;34m.\u001b[0m\u001b[0mxlabel\u001b[0m\u001b[0;34m(\u001b[0m\u001b[0;34m'Date'\u001b[0m\u001b[0;34m)\u001b[0m\u001b[0;34m\u001b[0m\u001b[0;34m\u001b[0m\u001b[0m\n",
      "\u001b[0;32m~/anaconda3/lib/python3.7/site-packages/pandas/core/frame.py\u001b[0m in \u001b[0;36m__getitem__\u001b[0;34m(self, key)\u001b[0m\n\u001b[1;32m   2978\u001b[0m             \u001b[0;32mif\u001b[0m \u001b[0mself\u001b[0m\u001b[0;34m.\u001b[0m\u001b[0mcolumns\u001b[0m\u001b[0;34m.\u001b[0m\u001b[0mnlevels\u001b[0m \u001b[0;34m>\u001b[0m \u001b[0;36m1\u001b[0m\u001b[0;34m:\u001b[0m\u001b[0;34m\u001b[0m\u001b[0;34m\u001b[0m\u001b[0m\n\u001b[1;32m   2979\u001b[0m                 \u001b[0;32mreturn\u001b[0m \u001b[0mself\u001b[0m\u001b[0;34m.\u001b[0m\u001b[0m_getitem_multilevel\u001b[0m\u001b[0;34m(\u001b[0m\u001b[0mkey\u001b[0m\u001b[0;34m)\u001b[0m\u001b[0;34m\u001b[0m\u001b[0;34m\u001b[0m\u001b[0m\n\u001b[0;32m-> 2980\u001b[0;31m             \u001b[0mindexer\u001b[0m \u001b[0;34m=\u001b[0m \u001b[0mself\u001b[0m\u001b[0;34m.\u001b[0m\u001b[0mcolumns\u001b[0m\u001b[0;34m.\u001b[0m\u001b[0mget_loc\u001b[0m\u001b[0;34m(\u001b[0m\u001b[0mkey\u001b[0m\u001b[0;34m)\u001b[0m\u001b[0;34m\u001b[0m\u001b[0;34m\u001b[0m\u001b[0m\n\u001b[0m\u001b[1;32m   2981\u001b[0m             \u001b[0;32mif\u001b[0m \u001b[0mis_integer\u001b[0m\u001b[0;34m(\u001b[0m\u001b[0mindexer\u001b[0m\u001b[0;34m)\u001b[0m\u001b[0;34m:\u001b[0m\u001b[0;34m\u001b[0m\u001b[0;34m\u001b[0m\u001b[0m\n\u001b[1;32m   2982\u001b[0m                 \u001b[0mindexer\u001b[0m \u001b[0;34m=\u001b[0m \u001b[0;34m[\u001b[0m\u001b[0mindexer\u001b[0m\u001b[0;34m]\u001b[0m\u001b[0;34m\u001b[0m\u001b[0;34m\u001b[0m\u001b[0m\n",
      "\u001b[0;32m~/anaconda3/lib/python3.7/site-packages/pandas/core/indexes/base.py\u001b[0m in \u001b[0;36mget_loc\u001b[0;34m(self, key, method, tolerance)\u001b[0m\n\u001b[1;32m   2897\u001b[0m                 \u001b[0;32mreturn\u001b[0m \u001b[0mself\u001b[0m\u001b[0;34m.\u001b[0m\u001b[0m_engine\u001b[0m\u001b[0;34m.\u001b[0m\u001b[0mget_loc\u001b[0m\u001b[0;34m(\u001b[0m\u001b[0mkey\u001b[0m\u001b[0;34m)\u001b[0m\u001b[0;34m\u001b[0m\u001b[0;34m\u001b[0m\u001b[0m\n\u001b[1;32m   2898\u001b[0m             \u001b[0;32mexcept\u001b[0m \u001b[0mKeyError\u001b[0m\u001b[0;34m:\u001b[0m\u001b[0;34m\u001b[0m\u001b[0;34m\u001b[0m\u001b[0m\n\u001b[0;32m-> 2899\u001b[0;31m                 \u001b[0;32mreturn\u001b[0m \u001b[0mself\u001b[0m\u001b[0;34m.\u001b[0m\u001b[0m_engine\u001b[0m\u001b[0;34m.\u001b[0m\u001b[0mget_loc\u001b[0m\u001b[0;34m(\u001b[0m\u001b[0mself\u001b[0m\u001b[0;34m.\u001b[0m\u001b[0m_maybe_cast_indexer\u001b[0m\u001b[0;34m(\u001b[0m\u001b[0mkey\u001b[0m\u001b[0;34m)\u001b[0m\u001b[0;34m)\u001b[0m\u001b[0;34m\u001b[0m\u001b[0;34m\u001b[0m\u001b[0m\n\u001b[0m\u001b[1;32m   2900\u001b[0m         \u001b[0mindexer\u001b[0m \u001b[0;34m=\u001b[0m \u001b[0mself\u001b[0m\u001b[0;34m.\u001b[0m\u001b[0mget_indexer\u001b[0m\u001b[0;34m(\u001b[0m\u001b[0;34m[\u001b[0m\u001b[0mkey\u001b[0m\u001b[0;34m]\u001b[0m\u001b[0;34m,\u001b[0m \u001b[0mmethod\u001b[0m\u001b[0;34m=\u001b[0m\u001b[0mmethod\u001b[0m\u001b[0;34m,\u001b[0m \u001b[0mtolerance\u001b[0m\u001b[0;34m=\u001b[0m\u001b[0mtolerance\u001b[0m\u001b[0;34m)\u001b[0m\u001b[0;34m\u001b[0m\u001b[0;34m\u001b[0m\u001b[0m\n\u001b[1;32m   2901\u001b[0m         \u001b[0;32mif\u001b[0m \u001b[0mindexer\u001b[0m\u001b[0;34m.\u001b[0m\u001b[0mndim\u001b[0m \u001b[0;34m>\u001b[0m \u001b[0;36m1\u001b[0m \u001b[0;32mor\u001b[0m \u001b[0mindexer\u001b[0m\u001b[0;34m.\u001b[0m\u001b[0msize\u001b[0m \u001b[0;34m>\u001b[0m \u001b[0;36m1\u001b[0m\u001b[0;34m:\u001b[0m\u001b[0;34m\u001b[0m\u001b[0;34m\u001b[0m\u001b[0m\n",
      "\u001b[0;32mpandas/_libs/index.pyx\u001b[0m in \u001b[0;36mpandas._libs.index.IndexEngine.get_loc\u001b[0;34m()\u001b[0m\n",
      "\u001b[0;32mpandas/_libs/index.pyx\u001b[0m in \u001b[0;36mpandas._libs.index.IndexEngine.get_loc\u001b[0;34m()\u001b[0m\n",
      "\u001b[0;32mpandas/_libs/hashtable_class_helper.pxi\u001b[0m in \u001b[0;36mpandas._libs.hashtable.PyObjectHashTable.get_item\u001b[0;34m()\u001b[0m\n",
      "\u001b[0;32mpandas/_libs/hashtable_class_helper.pxi\u001b[0m in \u001b[0;36mpandas._libs.hashtable.PyObjectHashTable.get_item\u001b[0;34m()\u001b[0m\n",
      "\u001b[0;31mKeyError\u001b[0m: 'value'"
     ]
    }
   ],
   "source": [
    "import matplotlib.pyplot as plt\n",
    "from pandas.plotting import register_matplotlib_converters\n",
    "register_matplotlib_converters()\n",
    "\n",
    "plt.scatter(yahoo_div_check['Date'], yahoo_div_check['value'], color = 'red')\n",
    "plt.title('Test Yahoo Dividends over time')\n",
    "plt.xlabel('Date')\n",
    "plt.ylabel('Dividend Amount')\n",
    "plt.show()"
   ]
  },
  {
   "cell_type": "code",
   "execution_count": null,
   "metadata": {},
   "outputs": [],
   "source": [
    "#yahoo_div_check = pdr.DataReader(ticker, start='2004-01-01', end='2019-12-30', data_source='yahoo-actions')\n",
    "print(yahoo_div_check)"
   ]
  },
  {
   "cell_type": "markdown",
   "metadata": {},
   "source": [
    "Show all non-DIVIDEND actions. "
   ]
  },
  {
   "cell_type": "code",
   "execution_count": null,
   "metadata": {},
   "outputs": [],
   "source": [
    "yahoo_div_check = pdr.DataReader(ticker, start=start_date, end=end_date, data_source='yahoo-actions')\n",
    "yahoo_div_check = yahoo_div_check[yahoo_div_check.action != \"DIVIDEND\"]\n",
    "yahoo_div_check.reset_index(inplace=True,drop=False)\n",
    "yahoo_div_check = yahoo_div_check.rename(columns={'index':'Date'})\n",
    "print(yahoo_div_check)"
   ]
  },
  {
   "cell_type": "markdown",
   "metadata": {},
   "source": [
    "So the outlier was a stock split not a dividend.  Should remove those.  Also whats happening pre-2002?"
   ]
  },
  {
   "cell_type": "code",
   "execution_count": null,
   "metadata": {},
   "outputs": [],
   "source": [
    "yahoo_action_check = pdr.DataReader(ticker, start=start_date, end=end_date, data_source='yahoo-actions')\n",
    "yahoo_div_check = yahoo_action_check[yahoo_action_check.action == \"DIVIDEND\"]\n",
    "yahoo_split_check = yahoo_action_check[yahoo_action_check.action == \"SPLIT\"]\n",
    "yahoo_other_check = yahoo_action_check[yahoo_action_check.action != \"DIVIDEND\"]\n",
    "\n",
    "yahoo_div_check.reset_index(inplace=True,drop=False)\n",
    "yahoo_div_check = yahoo_div_check.rename(columns={'index':'Date'})\n",
    "\n",
    "yahoo_split_check.reset_index(inplace=True,drop=False)\n",
    "yahoo_split_check = yahoo_split_check.rename(columns={'index':'Date'})\n",
    "\n",
    "yahoo_other_check.reset_index(inplace=True,drop=False)\n",
    "yahoo_other_check = yahoo_other_check.rename(columns={'index':'Date'})\n",
    "\n",
    "print(yahoo_div_check)\n",
    "print(yahoo_split_check)\n",
    "print(yahoo_other_check)"
   ]
  },
  {
   "cell_type": "markdown",
   "metadata": {},
   "source": [
    "<b>so got rid of splits ... only dividends ... now graph to check<b>"
   ]
  },
  {
   "cell_type": "code",
   "execution_count": null,
   "metadata": {},
   "outputs": [],
   "source": [
    "plt.scatter(yahoo_div_check['Date'], yahoo_div_check['value'], color = 'red')\n",
    "plt.title('Test Yahoo Dividends over time')\n",
    "plt.xlabel('Date')\n",
    "plt.ylabel('Dividend Amount')\n",
    "plt.show()"
   ]
  },
  {
   "cell_type": "markdown",
   "metadata": {},
   "source": [
    "This graph makes it easy to see whether a stock has a regular dividend payout and periodic increases.  \n",
    "\n",
    "Drops in dividend payout (see ATD-B.TO) could be caused by stock splits.   Need to check for splits and adjust.\n",
    "\n",
    "Now lets create a data frame with all the dividend yield values based on div and closing price by day."
   ]
  },
  {
   "cell_type": "code",
   "execution_count": null,
   "metadata": {},
   "outputs": [],
   "source": [
    "div_yield_frame = yahoo_price_check.copy()\n",
    "#div_yield_frame = yahoo_price_check.loc[:,'Close']\n",
    "\n",
    "\n",
    "div_yield_frame = div_yield_frame.drop('High', axis=1)\n",
    "div_yield_frame = div_yield_frame.drop('Low', axis=1)\n",
    "div_yield_frame = div_yield_frame.drop('Open', axis=1)\n",
    "div_yield_frame = div_yield_frame.drop('Volume', axis=1)\n",
    "div_yield_frame = div_yield_frame.drop('Adj Close', axis=1)\n",
    "#div_yield_frame = div_yield_frame.drop('index', axis=1)\n",
    "\n",
    "\n",
    "\n",
    "print(div_yield_frame)"
   ]
  },
  {
   "cell_type": "markdown",
   "metadata": {},
   "source": [
    "So the merge does a join on date but only keeps results that match.  Need to populate all price closes rows with a dividend yield.  Try a different function.  Something that gives me an outer join (or right join)\n",
    "\n",
    "currently fixed: auto filled non-div days with NaN.  \n",
    "\n",
    "Next need to populate all the NaN spots with previous dividend value by date and calculate yield based on price each day. \n",
    "\n",
    "Alright now add a column for the yield for each day based on calculation . Dividend/price * 100"
   ]
  },
  {
   "cell_type": "code",
   "execution_count": null,
   "metadata": {
    "scrolled": false
   },
   "outputs": [],
   "source": [
    "#print(div_yield_frame)\n",
    "#print(yahoo_div_check)\n",
    "new_div_yield = pd.merge(div_yield_frame, yahoo_div_check, on=\"Date\", how=\"left\")\n",
    "new_div_yield = new_div_yield.drop('action', axis=1)\n",
    "\n",
    "# front fill and calculate yield for each day\n",
    "# not sure if I need the backfill call to complete the dataframe or not\n",
    "new_div_yield.fillna(method='ffill', inplace=True)\n",
    "new_div_yield.fillna(method='bfill', inplace=True)\n",
    "print(new_div_yield)\n",
    "new_div_yield['div_yield'] = (4*new_div_yield['value'])/new_div_yield['Close'] *100\n",
    "print(new_div_yield)\n",
    "\n",
    "# plot dividend yield over time\n",
    "plt.plot(new_div_yield['Date'], new_div_yield['div_yield'], color = 'red')\n",
    "plt.title('Test Yahoo Dividends over time')\n",
    "plt.xlabel('Date')\n",
    "plt.ylabel('Dividend Yield')\n",
    "plt.show()\n",
    "\n",
    "# plot price over time \n",
    "plt.plot(new_div_yield['Date'], new_div_yield['Close'], color = 'green')\n",
    "plt.title('Test Yahoo Dividends over time')\n",
    "plt.xlabel('Date')\n",
    "plt.ylabel('Price')\n",
    "plt.show()"
   ]
  },
  {
   "cell_type": "markdown",
   "metadata": {},
   "source": [
    " ok great ... but the assumption here is that dividends are paid quarterly.  Need to calculate dividend frequency.  Maybe there is a way to get it.  if not, calculate it.  \n",
    " \n",
    "<b>To do:</b> find a way to automatically calculate dividend payout frequency.  \n",
    "\n",
    "   <i>Initial idea:</i>  for each dividend payment calculate delta between last and current div date and add to dividend yield DF.  This becomes a multiplier used to calculate div yield.  This should account for varying div payout frequencies across stocks <b>(test cases: T.TO, SJR-B.TO, XQQ)</b> as well as changes in payout frequency for individual stocks <b>(test case: Corus CJR-B)</b> \n",
    "\n",
    "hmm... so the closing price is adjusted for splits but the dividends are not.  Will need to account for dividend values that change as a result of splits.  To see this, change ticker to <b>(test case: \"ATD-B.TO\")</b>. \n",
    "\n",
    "<b>To do:</b> find a way to account for splits. \n",
    "\n",
    "<i>Initial idea:</i> So i think i can normalize by retroactively multiplying the dividend value by the split (eg  new_div = old_div * SPLIT) for each SPLIT record.  This would work for ATB-B.  will try later.  \n",
    "\n",
    "<b>FALSE - need to adjust manually</b> Alternatively, sourcing dividend payouts from dividendhistory.org, the amounts are already adjusted but i have noticed some inconsistencies.  Going to try and account for splits.  "
   ]
  },
  {
   "cell_type": "code",
   "execution_count": null,
   "metadata": {},
   "outputs": [],
   "source": [
    "for index, row in yahoo_split_check.iterrows():\n",
    "    if not yahoo_split_check.empty:\n",
    "        #print(row['Date'])\n",
    "        test_div = new_div_yield.loc[new_div_yield['Date'] == row['Date']]\n",
    "        print(test_div)\n",
    "        print(row['value'])\n",
    "        for index_2, row_2 in new_div_yield.iterrows():\n",
    "            if row_2['Date']<=row['Date']:\n",
    "                new_div_yield['value'] = new_div_yield['value']*row['value']\n",
    "                #print(\"Old Div: {0}    New Div: {1}   Date: {2}  \".format(row_2['value'], row_2['Date']))\n",
    "            #else:\n",
    "                #print(\"no correction\")\n",
    "                \n",
    "    else:\n",
    "        print(\"No splits detected\")\n",
    "        \n"
   ]
  },
  {
   "cell_type": "code",
   "execution_count": null,
   "metadata": {},
   "outputs": [],
   "source": []
  },
  {
   "cell_type": "markdown",
   "metadata": {},
   "source": [
    "Once data is all adjusted and cleaned up - peak/trough finding/generation"
   ]
  }
 ],
 "metadata": {
  "kernelspec": {
   "display_name": "Python 3",
   "language": "python",
   "name": "python3"
  },
  "language_info": {
   "codemirror_mode": {
    "name": "ipython",
    "version": 3
   },
   "file_extension": ".py",
   "mimetype": "text/x-python",
   "name": "python",
   "nbconvert_exporter": "python",
   "pygments_lexer": "ipython3",
   "version": "3.7.4"
  }
 },
 "nbformat": 4,
 "nbformat_minor": 2
}
